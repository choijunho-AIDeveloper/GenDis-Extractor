{
 "cells": [
  {
   "cell_type": "markdown",
   "metadata": {},
   "source": [
    "# NER(Named Entity Recognition)"
   ]
  },
  {
   "cell_type": "markdown",
   "metadata": {},
   "source": [
    "#### What is Named Entity Recognition?\n",
    "- NLP technology that identifie specific entities in text(can used to extract gene, varient, disease)."
   ]
  },
  {
   "cell_type": "markdown",
   "metadata": {},
   "source": [
    "#### How can use Transformer for NER?\n",
    "- Tokenize the text and pass it to the Transformer Model.\n",
    "- Predict NER tags for each Token."
   ]
  },
  {
   "cell_type": "markdown",
   "metadata": {},
   "source": [
    "#### Load Dataset\n",
    "- Using https://huggingface.co/datasets/eriktks/conll2003"
   ]
  },
  {
   "cell_type": "code",
   "execution_count": 1,
   "metadata": {},
   "outputs": [
    {
     "data": {
      "text/plain": [
       "DatasetDict({\n",
       "    train: Dataset({\n",
       "        features: ['id', 'tokens', 'pos_tags', 'chunk_tags', 'ner_tags'],\n",
       "        num_rows: 7020\n",
       "    })\n",
       "    validation: Dataset({\n",
       "        features: ['id', 'tokens', 'pos_tags', 'chunk_tags', 'ner_tags'],\n",
       "        num_rows: 3250\n",
       "    })\n",
       "    test: Dataset({\n",
       "        features: ['id', 'tokens', 'pos_tags', 'chunk_tags', 'ner_tags'],\n",
       "        num_rows: 3453\n",
       "    })\n",
       "})"
      ]
     },
     "execution_count": 1,
     "metadata": {},
     "output_type": "execute_result"
    }
   ],
   "source": [
    "from datasets import load_dataset\n",
    "\n",
    "dataset = load_dataset(\"conll2003\", trust_remote_code = True)\n",
    "# Cut the training split in half for demonstration purposes. I AINT GOT ALL DAY\n",
    "dataset[\"train\"] = dataset[\"train\"].train_test_split(test_size=0.5)[\"train\"]\n",
    "dataset"
   ]
  },
  {
   "cell_type": "markdown",
   "metadata": {},
   "source": [
    "#### Which Key in Dataset"
   ]
  },
  {
   "cell_type": "code",
   "execution_count": 2,
   "metadata": {},
   "outputs": [
    {
     "data": {
      "text/plain": [
       "dict_keys(['id', 'tokens', 'pos_tags', 'chunk_tags', 'ner_tags'])"
      ]
     },
     "execution_count": 2,
     "metadata": {},
     "output_type": "execute_result"
    }
   ],
   "source": [
    "dataset[\"train\"].features.keys()"
   ]
  },
  {
   "cell_type": "markdown",
   "metadata": {},
   "source": [
    "#### Extract Real Label"
   ]
  },
  {
   "cell_type": "code",
   "execution_count": 3,
   "metadata": {},
   "outputs": [
    {
     "data": {
      "text/plain": [
       "Sequence(feature=ClassLabel(names=['O', 'B-PER', 'I-PER', 'B-ORG', 'I-ORG', 'B-LOC', 'I-LOC', 'B-MISC', 'I-MISC'], id=None), length=-1, id=None)"
      ]
     },
     "execution_count": 3,
     "metadata": {},
     "output_type": "execute_result"
    }
   ],
   "source": [
    "dataset[\"train\"].features[\"ner_tags\"]"
   ]
  },
  {
   "cell_type": "code",
   "execution_count": 4,
   "metadata": {},
   "outputs": [
    {
     "data": {
      "text/plain": [
       "['O', 'B-PER', 'I-PER', 'B-ORG', 'I-ORG', 'B-LOC', 'I-LOC', 'B-MISC', 'I-MISC']"
      ]
     },
     "execution_count": 4,
     "metadata": {},
     "output_type": "execute_result"
    }
   ],
   "source": [
    "label_list = dataset[\"train\"].features[\"ner_tags\"].feature.names\n",
    "dataset = dataset.remove_columns(['pos_tags', 'chunk_tags'])\n",
    "\n",
    "label_list"
   ]
  },
  {
   "cell_type": "markdown",
   "metadata": {},
   "source": [
    "#### Tokenizing Data"
   ]
  },
  {
   "cell_type": "code",
   "execution_count": 5,
   "metadata": {},
   "outputs": [],
   "source": [
    "from transformers import AutoTokenizer\n",
    "\n",
    "model_name = \"distilbert-base-uncased\"\n",
    "tokenizer = AutoTokenizer.from_pretrained(model_name)"
   ]
  },
  {
   "cell_type": "code",
   "execution_count": 6,
   "metadata": {},
   "outputs": [
    {
     "name": "stdout",
     "output_type": "stream",
     "text": [
      "Origin : ['Leading', 'results', 'in', 'the', 'Brussels']\n",
      "Update : ['[CLS]', 'leading', 'results', 'in', 'the', 'brussels', '[SEP]']\n"
     ]
    }
   ],
   "source": [
    "example_row = dataset[\"train\"][0]\n",
    "tokenized_input = tokenizer(example_row[\"tokens\"], is_split_into_words=True)\n",
    "tokens = tokenizer.convert_ids_to_tokens(tokenized_input[\"input_ids\"])\n",
    "\n",
    "print(f\"Origin : {example_row['tokens']}\")\n",
    "print(f\"Update : {tokens}\")"
   ]
  },
  {
   "cell_type": "markdown",
   "metadata": {},
   "source": [
    "#### Token and Label alignment\n",
    "- Why use?\n",
    "    - preprocess subword(e.g.Washington -> Wash + ##ington) ##ington to '-100'(for not use)\n",
    "    - Special Token(e.g.[CLS], [SEP]) to '-100'(for not use)"
   ]
  },
  {
   "cell_type": "code",
   "execution_count": 7,
   "metadata": {},
   "outputs": [],
   "source": [
    "from transformers import PreTrainedTokenizer\n",
    "\n",
    "def tokenize_and_align_labels(examples, tokenizer: PreTrainedTokenizer, label_all_word_parts: bool=False):\n",
    "    \n",
    "    tokenized_inputs = tokenizer(examples[\"tokens\"], truncation=True, is_split_into_words=True)\n",
    "\n",
    "    labels = []\n",
    "    for i, label in enumerate(examples[f\"ner_tags\"]):\n",
    "        word_ids = tokenized_inputs.word_ids(batch_index=i)  # Map tokens to their respective word.\n",
    "        previous_word_idx = None\n",
    "        label_ids = []\n",
    "        for word_idx in word_ids:  # Set the special tokens to -100.\n",
    "            if word_idx is None:\n",
    "                label_ids.append(-100)\n",
    "            # Default behavior only labels the first token of a given word\n",
    "            # But sometimes you may want to label all the word parts for very specific use cases.\n",
    "            elif label_all_word_parts or (word_idx != previous_word_idx):\n",
    "                label_ids.append(label[word_idx])\n",
    "            else:\n",
    "                label_ids.append(-100)\n",
    "            previous_word_idx = word_idx\n",
    "        labels.append(label_ids)\n",
    "\n",
    "    tokenized_inputs[\"labels\"] = labels\n",
    "    return tokenized_inputs"
   ]
  },
  {
   "cell_type": "code",
   "execution_count": 8,
   "metadata": {},
   "outputs": [
    {
     "data": {
      "application/vnd.jupyter.widget-view+json": {
       "model_id": "f7fd3f863a26452f9866ad2bc48ba5ec",
       "version_major": 2,
       "version_minor": 0
      },
      "text/plain": [
       "Map:   0%|          | 0/7020 [00:00<?, ? examples/s]"
      ]
     },
     "metadata": {},
     "output_type": "display_data"
    }
   ],
   "source": [
    "tokenized_ds = dataset.map(\n",
    "    lambda examples: tokenize_and_align_labels(examples, tokenizer=tokenizer),\n",
    "    batched=True\n",
    ")"
   ]
  },
  {
   "cell_type": "markdown",
   "metadata": {},
   "source": [
    "#### Config correctly apply label"
   ]
  },
  {
   "cell_type": "code",
   "execution_count": 9,
   "metadata": {},
   "outputs": [
    {
     "name": "stdout",
     "output_type": "stream",
     "text": [
      "dict_keys(['id', 'tokens', 'ner_tags', 'input_ids', 'attention_mask', 'labels'])\n",
      "input_ids: [101, 2877, 3463, 1999, 1996, 9371, 102]\n",
      "labels: [-100, 0, 0, 0, 0, 7, -100]\n",
      "attention: [1, 1, 1, 1, 1, 1, 1]\n",
      "\n",
      "translated ids and labels:\n",
      "[CLS] -100\n",
      "leading O\n",
      "results O\n",
      "in O\n",
      "the O\n",
      "brussels B-MISC\n",
      "[SEP] -100\n"
     ]
    }
   ],
   "source": [
    "import numpy as np\n",
    "example = tokenized_ds['train'][0]\n",
    "\n",
    "print(example.keys())\n",
    "print(f\"input_ids: {example['input_ids']}\")\n",
    "print(f\"labels: {example['labels']}\")\n",
    "print(f\"attention: {example['attention_mask']}\")\n",
    "decoded_ids = [tokenizer.decode(id) for id in example[\"input_ids\"]]\n",
    "translated_labels = [label_list[label] if label != -100 else label for label in example['labels']]\n",
    "print(\"\\ntranslated ids and labels:\")\n",
    "for i in np.arange(len(example['input_ids'])):\n",
    "    print(decoded_ids[i], translated_labels[i])"
   ]
  },
  {
   "cell_type": "markdown",
   "metadata": {},
   "source": [
    "#### Config Length Match\n",
    "- Why length not match token and input ids?\n",
    "    - token is origin Token\n",
    "    - input ids is Token to Subtoken transformed\n",
    "- What is attention mask?\n",
    "    - If data length is short, Zero padding for length matching"
   ]
  },
  {
   "cell_type": "code",
   "execution_count": 10,
   "metadata": {},
   "outputs": [
    {
     "name": "stdout",
     "output_type": "stream",
     "text": [
      "Tokens Length: 5\n",
      "NER Tags Length: 5\n",
      "Input IDs Length: 7\n",
      "Attention Mask Length: 7\n",
      "Labels Length: 7\n",
      "\n",
      "Tokens Length: 36\n",
      "NER Tags Length: 36\n",
      "Input IDs Length: 42\n",
      "Attention Mask Length: 42\n",
      "Labels Length: 42\n",
      "\n",
      "Tokens Length: 26\n",
      "NER Tags Length: 26\n",
      "Input IDs Length: 31\n",
      "Attention Mask Length: 31\n",
      "Labels Length: 31\n",
      "\n"
     ]
    }
   ],
   "source": [
    "for index, example in enumerate(tokenized_ds['train']):\n",
    "    if index < 3:\n",
    "        tokens_length = len(example['tokens'])\n",
    "        ner_tags_length = len(example['ner_tags'])\n",
    "        input_ids_length = len(example['input_ids'])\n",
    "        attention_mask_length = len(example['attention_mask'])\n",
    "        labels_length = len(example['labels'])\n",
    "        \n",
    "        # Print the lengths for each feature in this row\n",
    "        print(f'Tokens Length: {tokens_length}')\n",
    "        print(f'NER Tags Length: {ner_tags_length}')\n",
    "        print(f'Input IDs Length: {input_ids_length}')\n",
    "        print(f'Attention Mask Length: {attention_mask_length}')\n",
    "        print(f'Labels Length: {labels_length}\\n')"
   ]
  },
  {
   "cell_type": "markdown",
   "metadata": {},
   "source": [
    "#### Build Trainer"
   ]
  },
  {
   "cell_type": "code",
   "execution_count": 11,
   "metadata": {},
   "outputs": [],
   "source": [
    "from transformers import (\n",
    "    DataCollatorForTokenClassification, \n",
    "    AutoModelForTokenClassification, \n",
    "    TrainingArguments, \n",
    "    Trainer, \n",
    "    EarlyStoppingCallback\n",
    ")"
   ]
  },
  {
   "cell_type": "markdown",
   "metadata": {},
   "source": [
    "#### Data Collator\n",
    "- Padding Batch(Not All) for Memory Reduce"
   ]
  },
  {
   "cell_type": "code",
   "execution_count": 12,
   "metadata": {},
   "outputs": [],
   "source": [
    "data_collator = DataCollatorForTokenClassification(tokenizer=tokenizer)"
   ]
  },
  {
   "cell_type": "markdown",
   "metadata": {},
   "source": [
    "#### Evaluation Function"
   ]
  },
  {
   "cell_type": "code",
   "execution_count": 13,
   "metadata": {},
   "outputs": [],
   "source": [
    "import evaluate\n",
    "seqeval = evaluate.load(\"seqeval\")\n",
    "\n",
    "def compute_metrics(p):\n",
    "    predictions, labels = p\n",
    "    predictions = np.argmax(predictions, axis=2)\n",
    "\n",
    "    true_predictions = [\n",
    "        [label_list[p] for (p, l) in zip(prediction, label) if l != -100]\n",
    "        for prediction, label in zip(predictions, labels)\n",
    "    ]\n",
    "    true_labels = [\n",
    "        [label_list[l] for (p, l) in zip(prediction, label) if l != -100]\n",
    "        for prediction, label in zip(predictions, labels)\n",
    "    ]\n",
    "\n",
    "    results = seqeval.compute(predictions=true_predictions, references=true_labels)\n",
    "    return {\n",
    "        \"precision\": results[\"overall_precision\"],\n",
    "        \"recall\": results[\"overall_recall\"],\n",
    "        \"f1\": results[\"overall_f1\"],\n",
    "        \"accuracy\": results[\"overall_accuracy\"],\n",
    "    }"
   ]
  },
  {
   "cell_type": "code",
   "execution_count": 14,
   "metadata": {},
   "outputs": [
    {
     "name": "stdout",
     "output_type": "stream",
     "text": [
      "label2id: {'O': 0, 'B-PER': 1, 'I-PER': 2, 'B-ORG': 3, 'I-ORG': 4, 'B-LOC': 5, 'I-LOC': 6, 'B-MISC': 7, 'I-MISC': 8}\n",
      "id2label: {0: 'O', 1: 'B-PER', 2: 'I-PER', 3: 'B-ORG', 4: 'I-ORG', 5: 'B-LOC', 6: 'I-LOC', 7: 'B-MISC', 8: 'I-MISC'}\n"
     ]
    }
   ],
   "source": [
    "label2id = {label: index for index, label in enumerate(label_list)}\n",
    "id2label = {value: key for key, value in label2id.items()}\n",
    "\n",
    "print(f\"label2id: {label2id}\")\n",
    "print(f\"id2label: {id2label}\")"
   ]
  },
  {
   "cell_type": "markdown",
   "metadata": {},
   "source": [
    "#### Model Initialize\n",
    "- For consistency when Hyperparameter Tuning"
   ]
  },
  {
   "cell_type": "code",
   "execution_count": 15,
   "metadata": {},
   "outputs": [],
   "source": [
    "def model_init():\n",
    "    return AutoModelForTokenClassification.from_pretrained(\n",
    "        model_name, \n",
    "        num_labels=len(id2label.keys()), \n",
    "        id2label=id2label, \n",
    "        label2id=label2id\n",
    "    )"
   ]
  },
  {
   "cell_type": "code",
   "execution_count": 16,
   "metadata": {},
   "outputs": [],
   "source": [
    "training_args = TrainingArguments(\n",
    "    output_dir=\"../models/holding_zone\",\n",
    "    learning_rate=2e-5,\n",
    "    per_device_train_batch_size=16,\n",
    "    per_device_eval_batch_size=16,\n",
    "    num_train_epochs=5,\n",
    "    weight_decay=0.01,\n",
    "    logging_strategy=\"epoch\",\n",
    "    eval_strategy=\"epoch\",\n",
    "    metric_for_best_model=\"eval_loss\",\n",
    "    save_strategy=\"no\",\n",
    "    push_to_hub=False,\n",
    "    remove_unused_columns=False\n",
    ")"
   ]
  },
  {
   "cell_type": "code",
   "execution_count": 17,
   "metadata": {},
   "outputs": [
    {
     "name": "stderr",
     "output_type": "stream",
     "text": [
      "C:\\Users\\aaaa\\AppData\\Local\\Temp\\ipykernel_12300\\2611462767.py:1: FutureWarning: `tokenizer` is deprecated and will be removed in version 5.0.0 for `Trainer.__init__`. Use `processing_class` instead.\n",
      "  trainer = Trainer(\n",
      "Some weights of DistilBertForTokenClassification were not initialized from the model checkpoint at distilbert-base-uncased and are newly initialized: ['classifier.bias', 'classifier.weight']\n",
      "You should probably TRAIN this model on a down-stream task to be able to use it for predictions and inference.\n"
     ]
    }
   ],
   "source": [
    "trainer = Trainer(\n",
    "    model=None,\n",
    "    args=training_args,\n",
    "    train_dataset=tokenized_ds[\"train\"].remove_columns([\"id\", \"tokens\", \"ner_tags\"]),\n",
    "    eval_dataset=tokenized_ds[\"validation\"].remove_columns([\"id\", \"tokens\", \"ner_tags\"]),\n",
    "    compute_metrics=compute_metrics,\n",
    "    tokenizer=tokenizer,\n",
    "    model_init=model_init,\n",
    "    data_collator=data_collator\n",
    ")"
   ]
  },
  {
   "cell_type": "markdown",
   "metadata": {},
   "source": [
    "#### Hyperparameter Tuning"
   ]
  },
  {
   "cell_type": "code",
   "execution_count": 18,
   "metadata": {},
   "outputs": [],
   "source": [
    "import optuna\n",
    "\n",
    "def optuna_hp_space(trial):\n",
    "    return {\n",
    "        \"learning_rate\": trial.suggest_float(\"learning_rate\", 2e-5, 5e-5, log=True),\n",
    "        \"per_device_train_batch_size\": trial.suggest_categorical(\"per_device_train_batch_size\", [6, 8, 16]),\n",
    "        \"per_device_eval_batch_size\": trial.suggest_categorical(\"per_device_eval_batch_size\", [6, 8, 16])\n",
    "    }"
   ]
  },
  {
   "cell_type": "code",
   "execution_count": 19,
   "metadata": {},
   "outputs": [
    {
     "name": "stderr",
     "output_type": "stream",
     "text": [
      "[I 2025-03-03 19:26:56,781] A new study created in memory with name: no-name-b228d514-8ff6-4b08-92de-616d76c865c5\n",
      "Some weights of DistilBertForTokenClassification were not initialized from the model checkpoint at distilbert-base-uncased and are newly initialized: ['classifier.bias', 'classifier.weight']\n",
      "You should probably TRAIN this model on a down-stream task to be able to use it for predictions and inference.\n"
     ]
    },
    {
     "data": {
      "text/html": [
       "\n",
       "    <div>\n",
       "      \n",
       "      <progress value='5850' max='5850' style='width:300px; height:20px; vertical-align: middle;'></progress>\n",
       "      [5850/5850 04:07, Epoch 5/5]\n",
       "    </div>\n",
       "    <table border=\"1\" class=\"dataframe\">\n",
       "  <thead>\n",
       " <tr style=\"text-align: left;\">\n",
       "      <th>Epoch</th>\n",
       "      <th>Training Loss</th>\n",
       "      <th>Validation Loss</th>\n",
       "      <th>Precision</th>\n",
       "      <th>Recall</th>\n",
       "      <th>F1</th>\n",
       "      <th>Accuracy</th>\n",
       "    </tr>\n",
       "  </thead>\n",
       "  <tbody>\n",
       "    <tr>\n",
       "      <td>1</td>\n",
       "      <td>0.129900</td>\n",
       "      <td>0.057974</td>\n",
       "      <td>0.908310</td>\n",
       "      <td>0.925278</td>\n",
       "      <td>0.916715</td>\n",
       "      <td>0.984035</td>\n",
       "    </tr>\n",
       "    <tr>\n",
       "      <td>2</td>\n",
       "      <td>0.038800</td>\n",
       "      <td>0.058114</td>\n",
       "      <td>0.919202</td>\n",
       "      <td>0.930495</td>\n",
       "      <td>0.924814</td>\n",
       "      <td>0.984775</td>\n",
       "    </tr>\n",
       "    <tr>\n",
       "      <td>3</td>\n",
       "      <td>0.016100</td>\n",
       "      <td>0.065918</td>\n",
       "      <td>0.928356</td>\n",
       "      <td>0.933356</td>\n",
       "      <td>0.930849</td>\n",
       "      <td>0.985962</td>\n",
       "    </tr>\n",
       "    <tr>\n",
       "      <td>4</td>\n",
       "      <td>0.008300</td>\n",
       "      <td>0.070377</td>\n",
       "      <td>0.927227</td>\n",
       "      <td>0.937058</td>\n",
       "      <td>0.932117</td>\n",
       "      <td>0.986566</td>\n",
       "    </tr>\n",
       "    <tr>\n",
       "      <td>5</td>\n",
       "      <td>0.003900</td>\n",
       "      <td>0.073772</td>\n",
       "      <td>0.926074</td>\n",
       "      <td>0.936048</td>\n",
       "      <td>0.931034</td>\n",
       "      <td>0.986449</td>\n",
       "    </tr>\n",
       "  </tbody>\n",
       "</table><p>"
      ],
      "text/plain": [
       "<IPython.core.display.HTML object>"
      ]
     },
     "metadata": {},
     "output_type": "display_data"
    },
    {
     "name": "stderr",
     "output_type": "stream",
     "text": [
      "[I 2025-03-03 19:31:07,396] Trial 0 finished with value: 3.779606003174519 and parameters: {'learning_rate': 4.09884837895206e-05, 'per_device_train_batch_size': 6, 'per_device_eval_batch_size': 8}. Best is trial 0 with value: 3.779606003174519.\n",
      "Some weights of DistilBertForTokenClassification were not initialized from the model checkpoint at distilbert-base-uncased and are newly initialized: ['classifier.bias', 'classifier.weight']\n",
      "You should probably TRAIN this model on a down-stream task to be able to use it for predictions and inference.\n"
     ]
    },
    {
     "data": {
      "text/html": [
       "\n",
       "    <div>\n",
       "      \n",
       "      <progress value='4390' max='4390' style='width:300px; height:20px; vertical-align: middle;'></progress>\n",
       "      [4390/4390 03:25, Epoch 5/5]\n",
       "    </div>\n",
       "    <table border=\"1\" class=\"dataframe\">\n",
       "  <thead>\n",
       " <tr style=\"text-align: left;\">\n",
       "      <th>Epoch</th>\n",
       "      <th>Training Loss</th>\n",
       "      <th>Validation Loss</th>\n",
       "      <th>Precision</th>\n",
       "      <th>Recall</th>\n",
       "      <th>F1</th>\n",
       "      <th>Accuracy</th>\n",
       "    </tr>\n",
       "  </thead>\n",
       "  <tbody>\n",
       "    <tr>\n",
       "      <td>1</td>\n",
       "      <td>0.168100</td>\n",
       "      <td>0.064510</td>\n",
       "      <td>0.900928</td>\n",
       "      <td>0.915180</td>\n",
       "      <td>0.907998</td>\n",
       "      <td>0.982730</td>\n",
       "    </tr>\n",
       "    <tr>\n",
       "      <td>2</td>\n",
       "      <td>0.046400</td>\n",
       "      <td>0.056178</td>\n",
       "      <td>0.911702</td>\n",
       "      <td>0.929653</td>\n",
       "      <td>0.920590</td>\n",
       "      <td>0.984658</td>\n",
       "    </tr>\n",
       "    <tr>\n",
       "      <td>3</td>\n",
       "      <td>0.024000</td>\n",
       "      <td>0.062923</td>\n",
       "      <td>0.909464</td>\n",
       "      <td>0.933187</td>\n",
       "      <td>0.921173</td>\n",
       "      <td>0.984950</td>\n",
       "    </tr>\n",
       "    <tr>\n",
       "      <td>4</td>\n",
       "      <td>0.013200</td>\n",
       "      <td>0.067914</td>\n",
       "      <td>0.925617</td>\n",
       "      <td>0.934029</td>\n",
       "      <td>0.929804</td>\n",
       "      <td>0.986118</td>\n",
       "    </tr>\n",
       "    <tr>\n",
       "      <td>5</td>\n",
       "      <td>0.009100</td>\n",
       "      <td>0.067093</td>\n",
       "      <td>0.924318</td>\n",
       "      <td>0.935207</td>\n",
       "      <td>0.929731</td>\n",
       "      <td>0.986352</td>\n",
       "    </tr>\n",
       "  </tbody>\n",
       "</table><p>"
      ],
      "text/plain": [
       "<IPython.core.display.HTML object>"
      ]
     },
     "metadata": {},
     "output_type": "display_data"
    },
    {
     "name": "stderr",
     "output_type": "stream",
     "text": [
      "[I 2025-03-03 19:34:34,575] Trial 1 finished with value: 3.775607443291345 and parameters: {'learning_rate': 2.145398589049473e-05, 'per_device_train_batch_size': 8, 'per_device_eval_batch_size': 8}. Best is trial 1 with value: 3.775607443291345.\n",
      "Some weights of DistilBertForTokenClassification were not initialized from the model checkpoint at distilbert-base-uncased and are newly initialized: ['classifier.bias', 'classifier.weight']\n",
      "You should probably TRAIN this model on a down-stream task to be able to use it for predictions and inference.\n"
     ]
    },
    {
     "data": {
      "text/html": [
       "\n",
       "    <div>\n",
       "      \n",
       "      <progress value='2195' max='2195' style='width:300px; height:20px; vertical-align: middle;'></progress>\n",
       "      [2195/2195 02:27, Epoch 5/5]\n",
       "    </div>\n",
       "    <table border=\"1\" class=\"dataframe\">\n",
       "  <thead>\n",
       " <tr style=\"text-align: left;\">\n",
       "      <th>Epoch</th>\n",
       "      <th>Training Loss</th>\n",
       "      <th>Validation Loss</th>\n",
       "      <th>Precision</th>\n",
       "      <th>Recall</th>\n",
       "      <th>F1</th>\n",
       "      <th>Accuracy</th>\n",
       "    </tr>\n",
       "  </thead>\n",
       "  <tbody>\n",
       "    <tr>\n",
       "      <td>1</td>\n",
       "      <td>0.213200</td>\n",
       "      <td>0.075761</td>\n",
       "      <td>0.892173</td>\n",
       "      <td>0.893975</td>\n",
       "      <td>0.893073</td>\n",
       "      <td>0.979752</td>\n",
       "    </tr>\n",
       "    <tr>\n",
       "      <td>2</td>\n",
       "      <td>0.053700</td>\n",
       "      <td>0.055957</td>\n",
       "      <td>0.911804</td>\n",
       "      <td>0.925614</td>\n",
       "      <td>0.918657</td>\n",
       "      <td>0.984580</td>\n",
       "    </tr>\n",
       "    <tr>\n",
       "      <td>3</td>\n",
       "      <td>0.029400</td>\n",
       "      <td>0.055758</td>\n",
       "      <td>0.910979</td>\n",
       "      <td>0.929990</td>\n",
       "      <td>0.920386</td>\n",
       "      <td>0.984969</td>\n",
       "    </tr>\n",
       "    <tr>\n",
       "      <td>4</td>\n",
       "      <td>0.018300</td>\n",
       "      <td>0.059358</td>\n",
       "      <td>0.918932</td>\n",
       "      <td>0.932851</td>\n",
       "      <td>0.925839</td>\n",
       "      <td>0.985184</td>\n",
       "    </tr>\n",
       "    <tr>\n",
       "      <td>5</td>\n",
       "      <td>0.013200</td>\n",
       "      <td>0.059450</td>\n",
       "      <td>0.917602</td>\n",
       "      <td>0.935207</td>\n",
       "      <td>0.926321</td>\n",
       "      <td>0.985612</td>\n",
       "    </tr>\n",
       "  </tbody>\n",
       "</table><p>"
      ],
      "text/plain": [
       "<IPython.core.display.HTML object>"
      ]
     },
     "metadata": {},
     "output_type": "display_data"
    },
    {
     "name": "stderr",
     "output_type": "stream",
     "text": [
      "[I 2025-03-03 19:37:03,383] Trial 2 finished with value: 3.7647423633253845 and parameters: {'learning_rate': 2.237462181455554e-05, 'per_device_train_batch_size': 16, 'per_device_eval_batch_size': 16}. Best is trial 2 with value: 3.7647423633253845.\n"
     ]
    },
    {
     "data": {
      "text/plain": [
       "BestRun(run_id='2', objective=3.7647423633253845, hyperparameters={'learning_rate': 2.237462181455554e-05, 'per_device_train_batch_size': 16, 'per_device_eval_batch_size': 16}, run_summary=None)"
      ]
     },
     "execution_count": 19,
     "metadata": {},
     "output_type": "execute_result"
    }
   ],
   "source": [
    "best_trial = trainer.hyperparameter_search(\n",
    "    direction=\"minimize\",\n",
    "    backend=\"optuna\",\n",
    "    hp_space=optuna_hp_space,\n",
    "    n_trials=3\n",
    ")\n",
    "\n",
    "best_trial"
   ]
  },
  {
   "cell_type": "code",
   "execution_count": 20,
   "metadata": {},
   "outputs": [
    {
     "data": {
      "text/plain": [
       "{'learning_rate': 2.237462181455554e-05,\n",
       " 'per_device_train_batch_size': 16,\n",
       " 'per_device_eval_batch_size': 16}"
      ]
     },
     "execution_count": 20,
     "metadata": {},
     "output_type": "execute_result"
    }
   ],
   "source": [
    "best_parameters = best_trial.hyperparameters\n",
    "best_parameters"
   ]
  },
  {
   "cell_type": "code",
   "execution_count": 21,
   "metadata": {},
   "outputs": [
    {
     "name": "stderr",
     "output_type": "stream",
     "text": [
      "c:\\Users\\aaaa\\anaconda3\\envs\\genetic\\Lib\\site-packages\\transformers\\training_args.py:1594: FutureWarning: `evaluation_strategy` is deprecated and will be removed in version 4.46 of 🤗 Transformers. Use `eval_strategy` instead\n",
      "  warnings.warn(\n",
      "C:\\Users\\aaaa\\AppData\\Local\\Temp\\ipykernel_12300\\1382496696.py:18: FutureWarning: `tokenizer` is deprecated and will be removed in version 5.0.0 for `Trainer.__init__`. Use `processing_class` instead.\n",
      "  trainer = Trainer(\n",
      "Some weights of DistilBertForTokenClassification were not initialized from the model checkpoint at distilbert-base-uncased and are newly initialized: ['classifier.bias', 'classifier.weight']\n",
      "You should probably TRAIN this model on a down-stream task to be able to use it for predictions and inference.\n"
     ]
    }
   ],
   "source": [
    "training_args = TrainingArguments(\n",
    "    output_dir=\"./models/holding_zone\",\n",
    "    learning_rate=best_parameters['learning_rate'],\n",
    "    per_device_train_batch_size=best_parameters['per_device_train_batch_size'],\n",
    "    per_device_eval_batch_size=best_parameters['per_device_eval_batch_size'],\n",
    "    num_train_epochs=5,\n",
    "    weight_decay=0.01,\n",
    "    logging_strategy=\"epoch\",\n",
    "    evaluation_strategy='epoch',\n",
    "    metric_for_best_model=\"eval_loss\",\n",
    "    push_to_hub=False,\n",
    "    remove_unused_columns=False,\n",
    "    save_strategy=\"epoch\",\n",
    "    save_total_limit=5,\n",
    "    load_best_model_at_end=True\n",
    ")\n",
    "\n",
    "trainer = Trainer(\n",
    "    model=None,\n",
    "    args=training_args,\n",
    "    train_dataset=tokenized_ds[\"train\"].remove_columns([\"id\", \"tokens\", \"ner_tags\"]),\n",
    "    eval_dataset=tokenized_ds[\"validation\"].remove_columns([\"id\", \"tokens\", \"ner_tags\"]),\n",
    "    compute_metrics=compute_metrics,\n",
    "    tokenizer=tokenizer,\n",
    "    model_init=model_init,\n",
    "    data_collator=data_collator,\n",
    "    callbacks = [EarlyStoppingCallback(early_stopping_patience=3)]\n",
    ")"
   ]
  },
  {
   "cell_type": "code",
   "execution_count": 22,
   "metadata": {},
   "outputs": [
    {
     "name": "stderr",
     "output_type": "stream",
     "text": [
      "Some weights of DistilBertForTokenClassification were not initialized from the model checkpoint at distilbert-base-uncased and are newly initialized: ['classifier.bias', 'classifier.weight']\n",
      "You should probably TRAIN this model on a down-stream task to be able to use it for predictions and inference.\n"
     ]
    },
    {
     "data": {
      "text/html": [
       "\n",
       "    <div>\n",
       "      \n",
       "      <progress value='2195' max='2195' style='width:300px; height:20px; vertical-align: middle;'></progress>\n",
       "      [2195/2195 02:40, Epoch 5/5]\n",
       "    </div>\n",
       "    <table border=\"1\" class=\"dataframe\">\n",
       "  <thead>\n",
       " <tr style=\"text-align: left;\">\n",
       "      <th>Epoch</th>\n",
       "      <th>Training Loss</th>\n",
       "      <th>Validation Loss</th>\n",
       "      <th>Precision</th>\n",
       "      <th>Recall</th>\n",
       "      <th>F1</th>\n",
       "      <th>Accuracy</th>\n",
       "    </tr>\n",
       "  </thead>\n",
       "  <tbody>\n",
       "    <tr>\n",
       "      <td>1</td>\n",
       "      <td>0.213200</td>\n",
       "      <td>0.075761</td>\n",
       "      <td>0.892173</td>\n",
       "      <td>0.893975</td>\n",
       "      <td>0.893073</td>\n",
       "      <td>0.979752</td>\n",
       "    </tr>\n",
       "    <tr>\n",
       "      <td>2</td>\n",
       "      <td>0.053700</td>\n",
       "      <td>0.055957</td>\n",
       "      <td>0.911804</td>\n",
       "      <td>0.925614</td>\n",
       "      <td>0.918657</td>\n",
       "      <td>0.984580</td>\n",
       "    </tr>\n",
       "    <tr>\n",
       "      <td>3</td>\n",
       "      <td>0.029400</td>\n",
       "      <td>0.055758</td>\n",
       "      <td>0.910979</td>\n",
       "      <td>0.929990</td>\n",
       "      <td>0.920386</td>\n",
       "      <td>0.984969</td>\n",
       "    </tr>\n",
       "    <tr>\n",
       "      <td>4</td>\n",
       "      <td>0.018300</td>\n",
       "      <td>0.059358</td>\n",
       "      <td>0.918932</td>\n",
       "      <td>0.932851</td>\n",
       "      <td>0.925839</td>\n",
       "      <td>0.985184</td>\n",
       "    </tr>\n",
       "    <tr>\n",
       "      <td>5</td>\n",
       "      <td>0.013200</td>\n",
       "      <td>0.059450</td>\n",
       "      <td>0.917602</td>\n",
       "      <td>0.935207</td>\n",
       "      <td>0.926321</td>\n",
       "      <td>0.985612</td>\n",
       "    </tr>\n",
       "  </tbody>\n",
       "</table><p>"
      ],
      "text/plain": [
       "<IPython.core.display.HTML object>"
      ]
     },
     "metadata": {},
     "output_type": "display_data"
    },
    {
     "data": {
      "text/plain": [
       "TrainOutput(global_step=2195, training_loss=0.06554795984255155, metrics={'train_runtime': 160.9411, 'train_samples_per_second': 218.092, 'train_steps_per_second': 13.639, 'total_flos': 421976153438280.0, 'train_loss': 0.06554795984255155, 'epoch': 5.0})"
      ]
     },
     "execution_count": 22,
     "metadata": {},
     "output_type": "execute_result"
    }
   ],
   "source": [
    "trainer.train()"
   ]
  },
  {
   "cell_type": "markdown",
   "metadata": {},
   "source": [
    "#### Result Visual"
   ]
  },
  {
   "cell_type": "code",
   "execution_count": 23,
   "metadata": {},
   "outputs": [
    {
     "data": {
      "text/html": [
       "<div>\n",
       "<style scoped>\n",
       "    .dataframe tbody tr th:only-of-type {\n",
       "        vertical-align: middle;\n",
       "    }\n",
       "\n",
       "    .dataframe tbody tr th {\n",
       "        vertical-align: top;\n",
       "    }\n",
       "\n",
       "    .dataframe thead th {\n",
       "        text-align: right;\n",
       "    }\n",
       "</style>\n",
       "<table border=\"1\" class=\"dataframe\">\n",
       "  <thead>\n",
       "    <tr style=\"text-align: right;\">\n",
       "      <th></th>\n",
       "      <th>loss</th>\n",
       "      <th>grad_norm</th>\n",
       "      <th>learning_rate</th>\n",
       "      <th>epoch</th>\n",
       "      <th>step</th>\n",
       "      <th>eval_loss</th>\n",
       "      <th>eval_precision</th>\n",
       "      <th>eval_recall</th>\n",
       "      <th>eval_f1</th>\n",
       "      <th>eval_accuracy</th>\n",
       "      <th>eval_runtime</th>\n",
       "      <th>eval_samples_per_second</th>\n",
       "      <th>eval_steps_per_second</th>\n",
       "    </tr>\n",
       "  </thead>\n",
       "  <tbody>\n",
       "    <tr>\n",
       "      <th>0</th>\n",
       "      <td>0.2132</td>\n",
       "      <td>1.621758</td>\n",
       "      <td>0.000018</td>\n",
       "      <td>1.0</td>\n",
       "      <td>439</td>\n",
       "      <td>0.075761</td>\n",
       "      <td>0.892173</td>\n",
       "      <td>0.893975</td>\n",
       "      <td>0.893073</td>\n",
       "      <td>0.979752</td>\n",
       "      <td>3.6547</td>\n",
       "      <td>889.258</td>\n",
       "      <td>55.818</td>\n",
       "    </tr>\n",
       "    <tr>\n",
       "      <th>1</th>\n",
       "      <td>0.0537</td>\n",
       "      <td>2.024833</td>\n",
       "      <td>0.000013</td>\n",
       "      <td>2.0</td>\n",
       "      <td>878</td>\n",
       "      <td>0.055957</td>\n",
       "      <td>0.911804</td>\n",
       "      <td>0.925614</td>\n",
       "      <td>0.918657</td>\n",
       "      <td>0.984580</td>\n",
       "      <td>3.5879</td>\n",
       "      <td>905.833</td>\n",
       "      <td>56.858</td>\n",
       "    </tr>\n",
       "    <tr>\n",
       "      <th>2</th>\n",
       "      <td>0.0294</td>\n",
       "      <td>0.825216</td>\n",
       "      <td>0.000009</td>\n",
       "      <td>3.0</td>\n",
       "      <td>1317</td>\n",
       "      <td>0.055758</td>\n",
       "      <td>0.910979</td>\n",
       "      <td>0.929990</td>\n",
       "      <td>0.920386</td>\n",
       "      <td>0.984969</td>\n",
       "      <td>3.6917</td>\n",
       "      <td>880.342</td>\n",
       "      <td>55.258</td>\n",
       "    </tr>\n",
       "    <tr>\n",
       "      <th>3</th>\n",
       "      <td>0.0183</td>\n",
       "      <td>1.146095</td>\n",
       "      <td>0.000004</td>\n",
       "      <td>4.0</td>\n",
       "      <td>1756</td>\n",
       "      <td>0.059358</td>\n",
       "      <td>0.918932</td>\n",
       "      <td>0.932851</td>\n",
       "      <td>0.925839</td>\n",
       "      <td>0.985184</td>\n",
       "      <td>3.7635</td>\n",
       "      <td>863.551</td>\n",
       "      <td>54.204</td>\n",
       "    </tr>\n",
       "    <tr>\n",
       "      <th>4</th>\n",
       "      <td>0.0132</td>\n",
       "      <td>0.122111</td>\n",
       "      <td>0.000000</td>\n",
       "      <td>5.0</td>\n",
       "      <td>2195</td>\n",
       "      <td>0.059450</td>\n",
       "      <td>0.917602</td>\n",
       "      <td>0.935207</td>\n",
       "      <td>0.926321</td>\n",
       "      <td>0.985612</td>\n",
       "      <td>3.9630</td>\n",
       "      <td>820.092</td>\n",
       "      <td>51.477</td>\n",
       "    </tr>\n",
       "  </tbody>\n",
       "</table>\n",
       "</div>"
      ],
      "text/plain": [
       "     loss  grad_norm  learning_rate  epoch  step  eval_loss  eval_precision  \\\n",
       "0  0.2132   1.621758       0.000018    1.0   439   0.075761        0.892173   \n",
       "1  0.0537   2.024833       0.000013    2.0   878   0.055957        0.911804   \n",
       "2  0.0294   0.825216       0.000009    3.0  1317   0.055758        0.910979   \n",
       "3  0.0183   1.146095       0.000004    4.0  1756   0.059358        0.918932   \n",
       "4  0.0132   0.122111       0.000000    5.0  2195   0.059450        0.917602   \n",
       "\n",
       "   eval_recall   eval_f1  eval_accuracy  eval_runtime  \\\n",
       "0     0.893975  0.893073       0.979752        3.6547   \n",
       "1     0.925614  0.918657       0.984580        3.5879   \n",
       "2     0.929990  0.920386       0.984969        3.6917   \n",
       "3     0.932851  0.925839       0.985184        3.7635   \n",
       "4     0.935207  0.926321       0.985612        3.9630   \n",
       "\n",
       "   eval_samples_per_second  eval_steps_per_second  \n",
       "0                  889.258                 55.818  \n",
       "1                  905.833                 56.858  \n",
       "2                  880.342                 55.258  \n",
       "3                  863.551                 54.204  \n",
       "4                  820.092                 51.477  "
      ]
     },
     "metadata": {},
     "output_type": "display_data"
    }
   ],
   "source": [
    "import pandas as pd\n",
    "\n",
    "train_logs = []\n",
    "valid_logs = []\n",
    "for index, x in enumerate(trainer.state.log_history):\n",
    "    if 'loss' in x.keys():\n",
    "        train_logs.append(x)\n",
    "    elif 'eval_loss' in x.keys():\n",
    "        valid_logs.append(x)\n",
    "    else:\n",
    "        pass\n",
    "\n",
    "train_logs = pd.DataFrame(train_logs)\n",
    "valid_logs = pd.DataFrame(valid_logs)\n",
    "logs = train_logs.merge(valid_logs, on=[\"epoch\", \"step\"])\n",
    "\n",
    "display(logs)"
   ]
  },
  {
   "cell_type": "code",
   "execution_count": 24,
   "metadata": {},
   "outputs": [
    {
     "data": {
      "text/plain": [
       "<Axes: title={'center': 'Training and Validation Loss over Epochs'}, xlabel='Epoch', ylabel='Loss'>"
      ]
     },
     "execution_count": 24,
     "metadata": {},
     "output_type": "execute_result"
    },
    {
     "data": {
      "image/png": "[encoded data removed]",
      "text/plain": [
       "<Figure size 640x480 with 1 Axes>"
      ]
     },
     "metadata": {},
     "output_type": "display_data"
    }
   ],
   "source": [
    "(\n",
    "    logs[[\"loss\", \"eval_loss\", \"epoch\"]]\n",
    "    .plot(\n",
    "        kind=\"line\",\n",
    "        x=\"epoch\", \n",
    "        title=\"Training and Validation Loss over Epochs\",\n",
    "        xlabel=\"Epoch\",\n",
    "        ylabel=\"Loss\",\n",
    "        xticks=np.arange(1,6)\n",
    "    )\n",
    ")"
   ]
  },
  {
   "cell_type": "code",
   "execution_count": 25,
   "metadata": {},
   "outputs": [
    {
     "data": {
      "text/plain": [
       "<Axes: title={'center': 'Validation Metrics over Epochs'}, xlabel='Epoch', ylabel='Score'>"
      ]
     },
     "execution_count": 25,
     "metadata": {},
     "output_type": "execute_result"
    },
    {
     "data": {
      "image/png": "[encoded data removed]",
      "text/plain": [
       "<Figure size 640x480 with 1 Axes>"
      ]
     },
     "metadata": {},
     "output_type": "display_data"
    }
   ],
   "source": [
    "(\n",
    "    logs[[\"epoch\", \"eval_precision\", \"eval_recall\", \"eval_f1\", \"eval_accuracy\"]]\n",
    "    .plot(\n",
    "        kind=\"line\",\n",
    "        x=\"epoch\",\n",
    "        title=\"Validation Metrics over Epochs\",\n",
    "        xlabel=\"Epoch\",\n",
    "        ylabel=\"Score\",\n",
    "        xticks=np.arange(1,6)\n",
    "    )\n",
    ")"
   ]
  },
  {
   "cell_type": "code",
   "execution_count": 26,
   "metadata": {},
   "outputs": [
    {
     "ename": "OSError",
     "evalue": "Incorrect path_or_model_id: './models/holding_zone/checkpoint-1756'. Please provide either the path to a local folder or the repo_id of a model on the Hub.",
     "output_type": "error",
     "traceback": [
      "\u001b[31m---------------------------------------------------------------------------\u001b[39m",
      "\u001b[31mHFValidationError\u001b[39m                         Traceback (most recent call last)",
      "\u001b[36mFile \u001b[39m\u001b[32mc:\\Users\\aaaa\\anaconda3\\envs\\genetic\\Lib\\site-packages\\transformers\\utils\\hub.py:342\u001b[39m, in \u001b[36mcached_file\u001b[39m\u001b[34m(path_or_repo_id, filename, cache_dir, force_download, resume_download, proxies, token, revision, local_files_only, subfolder, repo_type, user_agent, _raise_exceptions_for_gated_repo, _raise_exceptions_for_missing_entries, _raise_exceptions_for_connection_errors, _commit_hash, **deprecated_kwargs)\u001b[39m\n\u001b[32m    340\u001b[39m \u001b[38;5;28;01mtry\u001b[39;00m:\n\u001b[32m    341\u001b[39m     \u001b[38;5;66;03m# Load from URL or cache if already cached\u001b[39;00m\n\u001b[32m--> \u001b[39m\u001b[32m342\u001b[39m     resolved_file = \u001b[43mhf_hub_download\u001b[49m\u001b[43m(\u001b[49m\n\u001b[32m    343\u001b[39m \u001b[43m        \u001b[49m\u001b[43mpath_or_repo_id\u001b[49m\u001b[43m,\u001b[49m\n\u001b[32m    344\u001b[39m \u001b[43m        \u001b[49m\u001b[43mfilename\u001b[49m\u001b[43m,\u001b[49m\n\u001b[32m    345\u001b[39m \u001b[43m        \u001b[49m\u001b[43msubfolder\u001b[49m\u001b[43m=\u001b[49m\u001b[38;5;28;43;01mNone\u001b[39;49;00m\u001b[43m \u001b[49m\u001b[38;5;28;43;01mif\u001b[39;49;00m\u001b[43m \u001b[49m\u001b[38;5;28;43mlen\u001b[39;49m\u001b[43m(\u001b[49m\u001b[43msubfolder\u001b[49m\u001b[43m)\u001b[49m\u001b[43m \u001b[49m\u001b[43m==\u001b[49m\u001b[43m \u001b[49m\u001b[32;43m0\u001b[39;49m\u001b[43m \u001b[49m\u001b[38;5;28;43;01melse\u001b[39;49;00m\u001b[43m \u001b[49m\u001b[43msubfolder\u001b[49m\u001b[43m,\u001b[49m\n\u001b[32m    346\u001b[39m \u001b[43m        \u001b[49m\u001b[43mrepo_type\u001b[49m\u001b[43m=\u001b[49m\u001b[43mrepo_type\u001b[49m\u001b[43m,\u001b[49m\n\u001b[32m    347\u001b[39m \u001b[43m        \u001b[49m\u001b[43mrevision\u001b[49m\u001b[43m=\u001b[49m\u001b[43mrevision\u001b[49m\u001b[43m,\u001b[49m\n\u001b[32m    348\u001b[39m \u001b[43m        \u001b[49m\u001b[43mcache_dir\u001b[49m\u001b[43m=\u001b[49m\u001b[43mcache_dir\u001b[49m\u001b[43m,\u001b[49m\n\u001b[32m    349\u001b[39m \u001b[43m        \u001b[49m\u001b[43muser_agent\u001b[49m\u001b[43m=\u001b[49m\u001b[43muser_agent\u001b[49m\u001b[43m,\u001b[49m\n\u001b[32m    350\u001b[39m \u001b[43m        \u001b[49m\u001b[43mforce_download\u001b[49m\u001b[43m=\u001b[49m\u001b[43mforce_download\u001b[49m\u001b[43m,\u001b[49m\n\u001b[32m    351\u001b[39m \u001b[43m        \u001b[49m\u001b[43mproxies\u001b[49m\u001b[43m=\u001b[49m\u001b[43mproxies\u001b[49m\u001b[43m,\u001b[49m\n\u001b[32m    352\u001b[39m \u001b[43m        \u001b[49m\u001b[43mresume_download\u001b[49m\u001b[43m=\u001b[49m\u001b[43mresume_download\u001b[49m\u001b[43m,\u001b[49m\n\u001b[32m    353\u001b[39m \u001b[43m        \u001b[49m\u001b[43mtoken\u001b[49m\u001b[43m=\u001b[49m\u001b[43mtoken\u001b[49m\u001b[43m,\u001b[49m\n\u001b[32m    354\u001b[39m \u001b[43m        \u001b[49m\u001b[43mlocal_files_only\u001b[49m\u001b[43m=\u001b[49m\u001b[43mlocal_files_only\u001b[49m\u001b[43m,\u001b[49m\n\u001b[32m    355\u001b[39m \u001b[43m    \u001b[49m\u001b[43m)\u001b[49m\n\u001b[32m    356\u001b[39m \u001b[38;5;28;01mexcept\u001b[39;00m GatedRepoError \u001b[38;5;28;01mas\u001b[39;00m e:\n",
      "\u001b[36mFile \u001b[39m\u001b[32mc:\\Users\\aaaa\\anaconda3\\envs\\genetic\\Lib\\site-packages\\huggingface_hub\\utils\\_validators.py:106\u001b[39m, in \u001b[36mvalidate_hf_hub_args.<locals>._inner_fn\u001b[39m\u001b[34m(*args, **kwargs)\u001b[39m\n\u001b[32m    105\u001b[39m \u001b[38;5;28;01mif\u001b[39;00m arg_name \u001b[38;5;129;01min\u001b[39;00m [\u001b[33m\"\u001b[39m\u001b[33mrepo_id\u001b[39m\u001b[33m\"\u001b[39m, \u001b[33m\"\u001b[39m\u001b[33mfrom_id\u001b[39m\u001b[33m\"\u001b[39m, \u001b[33m\"\u001b[39m\u001b[33mto_id\u001b[39m\u001b[33m\"\u001b[39m]:\n\u001b[32m--> \u001b[39m\u001b[32m106\u001b[39m     \u001b[43mvalidate_repo_id\u001b[49m\u001b[43m(\u001b[49m\u001b[43marg_value\u001b[49m\u001b[43m)\u001b[49m\n\u001b[32m    108\u001b[39m \u001b[38;5;28;01melif\u001b[39;00m arg_name == \u001b[33m\"\u001b[39m\u001b[33mtoken\u001b[39m\u001b[33m\"\u001b[39m \u001b[38;5;129;01mand\u001b[39;00m arg_value \u001b[38;5;129;01mis\u001b[39;00m \u001b[38;5;129;01mnot\u001b[39;00m \u001b[38;5;28;01mNone\u001b[39;00m:\n",
      "\u001b[36mFile \u001b[39m\u001b[32mc:\\Users\\aaaa\\anaconda3\\envs\\genetic\\Lib\\site-packages\\huggingface_hub\\utils\\_validators.py:154\u001b[39m, in \u001b[36mvalidate_repo_id\u001b[39m\u001b[34m(repo_id)\u001b[39m\n\u001b[32m    153\u001b[39m \u001b[38;5;28;01mif\u001b[39;00m repo_id.count(\u001b[33m\"\u001b[39m\u001b[33m/\u001b[39m\u001b[33m\"\u001b[39m) > \u001b[32m1\u001b[39m:\n\u001b[32m--> \u001b[39m\u001b[32m154\u001b[39m     \u001b[38;5;28;01mraise\u001b[39;00m HFValidationError(\n\u001b[32m    155\u001b[39m         \u001b[33m\"\u001b[39m\u001b[33mRepo id must be in the form \u001b[39m\u001b[33m'\u001b[39m\u001b[33mrepo_name\u001b[39m\u001b[33m'\u001b[39m\u001b[33m or \u001b[39m\u001b[33m'\u001b[39m\u001b[33mnamespace/repo_name\u001b[39m\u001b[33m'\u001b[39m\u001b[33m:\u001b[39m\u001b[33m\"\u001b[39m\n\u001b[32m    156\u001b[39m         \u001b[33mf\u001b[39m\u001b[33m\"\u001b[39m\u001b[33m \u001b[39m\u001b[33m'\u001b[39m\u001b[38;5;132;01m{\u001b[39;00mrepo_id\u001b[38;5;132;01m}\u001b[39;00m\u001b[33m'\u001b[39m\u001b[33m. Use `repo_type` argument if needed.\u001b[39m\u001b[33m\"\u001b[39m\n\u001b[32m    157\u001b[39m     )\n\u001b[32m    159\u001b[39m \u001b[38;5;28;01mif\u001b[39;00m \u001b[38;5;129;01mnot\u001b[39;00m REPO_ID_REGEX.match(repo_id):\n",
      "\u001b[31mHFValidationError\u001b[39m: Repo id must be in the form 'repo_name' or 'namespace/repo_name': './models/holding_zone/checkpoint-1756'. Use `repo_type` argument if needed.",
      "\nThe above exception was the direct cause of the following exception:\n",
      "\u001b[31mOSError\u001b[39m                                   Traceback (most recent call last)",
      "\u001b[36mCell\u001b[39m\u001b[36m \u001b[39m\u001b[32mIn[26]\u001b[39m\u001b[32m, line 5\u001b[39m\n\u001b[32m      3\u001b[39m checkpoint = \u001b[32m1756\u001b[39m \u001b[38;5;66;03m# Checkpoint for epoch 2.\u001b[39;00m\n\u001b[32m      4\u001b[39m model_dir = \u001b[33mf\u001b[39m\u001b[33m\"\u001b[39m\u001b[33m./models/holding_zone/checkpoint-\u001b[39m\u001b[38;5;132;01m{\u001b[39;00mcheckpoint\u001b[38;5;132;01m}\u001b[39;00m\u001b[33m\"\u001b[39m\n\u001b[32m----> \u001b[39m\u001b[32m5\u001b[39m model = \u001b[43mAutoModelForTokenClassification\u001b[49m\u001b[43m.\u001b[49m\u001b[43mfrom_pretrained\u001b[49m\u001b[43m(\u001b[49m\u001b[43mmodel_dir\u001b[49m\u001b[43m)\u001b[49m\n\u001b[32m      6\u001b[39m tokenizer = AutoTokenizer.from_pretrained(model_dir)\n\u001b[32m      7\u001b[39m aggregation_strategy = \u001b[33m\"\u001b[39m\u001b[33maverage\u001b[39m\u001b[33m\"\u001b[39m\n",
      "\u001b[36mFile \u001b[39m\u001b[32mc:\\Users\\aaaa\\anaconda3\\envs\\genetic\\Lib\\site-packages\\transformers\\models\\auto\\auto_factory.py:487\u001b[39m, in \u001b[36m_BaseAutoModelClass.from_pretrained\u001b[39m\u001b[34m(cls, pretrained_model_name_or_path, *model_args, **kwargs)\u001b[39m\n\u001b[32m    484\u001b[39m \u001b[38;5;28;01mif\u001b[39;00m commit_hash \u001b[38;5;129;01mis\u001b[39;00m \u001b[38;5;28;01mNone\u001b[39;00m:\n\u001b[32m    485\u001b[39m     \u001b[38;5;28;01mif\u001b[39;00m \u001b[38;5;129;01mnot\u001b[39;00m \u001b[38;5;28misinstance\u001b[39m(config, PretrainedConfig):\n\u001b[32m    486\u001b[39m         \u001b[38;5;66;03m# We make a call to the config file first (which may be absent) to get the commit hash as soon as possible\u001b[39;00m\n\u001b[32m--> \u001b[39m\u001b[32m487\u001b[39m         resolved_config_file = \u001b[43mcached_file\u001b[49m\u001b[43m(\u001b[49m\n\u001b[32m    488\u001b[39m \u001b[43m            \u001b[49m\u001b[43mpretrained_model_name_or_path\u001b[49m\u001b[43m,\u001b[49m\n\u001b[32m    489\u001b[39m \u001b[43m            \u001b[49m\u001b[43mCONFIG_NAME\u001b[49m\u001b[43m,\u001b[49m\n\u001b[32m    490\u001b[39m \u001b[43m            \u001b[49m\u001b[43m_raise_exceptions_for_gated_repo\u001b[49m\u001b[43m=\u001b[49m\u001b[38;5;28;43;01mFalse\u001b[39;49;00m\u001b[43m,\u001b[49m\n\u001b[32m    491\u001b[39m \u001b[43m            \u001b[49m\u001b[43m_raise_exceptions_for_missing_entries\u001b[49m\u001b[43m=\u001b[49m\u001b[38;5;28;43;01mFalse\u001b[39;49;00m\u001b[43m,\u001b[49m\n\u001b[32m    492\u001b[39m \u001b[43m            \u001b[49m\u001b[43m_raise_exceptions_for_connection_errors\u001b[49m\u001b[43m=\u001b[49m\u001b[38;5;28;43;01mFalse\u001b[39;49;00m\u001b[43m,\u001b[49m\n\u001b[32m    493\u001b[39m \u001b[43m            \u001b[49m\u001b[43m*\u001b[49m\u001b[43m*\u001b[49m\u001b[43mhub_kwargs\u001b[49m\u001b[43m,\u001b[49m\n\u001b[32m    494\u001b[39m \u001b[43m        \u001b[49m\u001b[43m)\u001b[49m\n\u001b[32m    495\u001b[39m         commit_hash = extract_commit_hash(resolved_config_file, commit_hash)\n\u001b[32m    496\u001b[39m     \u001b[38;5;28;01melse\u001b[39;00m:\n",
      "\u001b[36mFile \u001b[39m\u001b[32mc:\\Users\\aaaa\\anaconda3\\envs\\genetic\\Lib\\site-packages\\transformers\\utils\\hub.py:408\u001b[39m, in \u001b[36mcached_file\u001b[39m\u001b[34m(path_or_repo_id, filename, cache_dir, force_download, resume_download, proxies, token, revision, local_files_only, subfolder, repo_type, user_agent, _raise_exceptions_for_gated_repo, _raise_exceptions_for_missing_entries, _raise_exceptions_for_connection_errors, _commit_hash, **deprecated_kwargs)\u001b[39m\n\u001b[32m    406\u001b[39m     \u001b[38;5;28;01mraise\u001b[39;00m \u001b[38;5;167;01mEnvironmentError\u001b[39;00m(\u001b[33mf\u001b[39m\u001b[33m\"\u001b[39m\u001b[33mThere was a specific connection error when trying to load \u001b[39m\u001b[38;5;132;01m{\u001b[39;00mpath_or_repo_id\u001b[38;5;132;01m}\u001b[39;00m\u001b[33m:\u001b[39m\u001b[38;5;130;01m\\n\u001b[39;00m\u001b[38;5;132;01m{\u001b[39;00merr\u001b[38;5;132;01m}\u001b[39;00m\u001b[33m\"\u001b[39m)\n\u001b[32m    407\u001b[39m \u001b[38;5;28;01mexcept\u001b[39;00m HFValidationError \u001b[38;5;28;01mas\u001b[39;00m e:\n\u001b[32m--> \u001b[39m\u001b[32m408\u001b[39m     \u001b[38;5;28;01mraise\u001b[39;00m \u001b[38;5;167;01mEnvironmentError\u001b[39;00m(\n\u001b[32m    409\u001b[39m         \u001b[33mf\u001b[39m\u001b[33m\"\u001b[39m\u001b[33mIncorrect path_or_model_id: \u001b[39m\u001b[33m'\u001b[39m\u001b[38;5;132;01m{\u001b[39;00mpath_or_repo_id\u001b[38;5;132;01m}\u001b[39;00m\u001b[33m'\u001b[39m\u001b[33m. Please provide either the path to a local folder or the repo_id of a model on the Hub.\u001b[39m\u001b[33m\"\u001b[39m\n\u001b[32m    410\u001b[39m     ) \u001b[38;5;28;01mfrom\u001b[39;00m\u001b[38;5;250m \u001b[39m\u001b[34;01me\u001b[39;00m\n\u001b[32m    411\u001b[39m \u001b[38;5;28;01mreturn\u001b[39;00m resolved_file\n",
      "\u001b[31mOSError\u001b[39m: Incorrect path_or_model_id: './models/holding_zone/checkpoint-1756'. Please provide either the path to a local folder or the repo_id of a model on the Hub."
     ]
    }
   ],
   "source": [
    "from transformers import pipeline\n",
    "\n",
    "checkpoint = 1756 # Checkpoint for epoch 2.\n",
    "model_dir = f\"./models/holding_zone/checkpoint-{checkpoint}\"\n",
    "model = AutoModelForTokenClassification.from_pretrained(model_dir)\n",
    "tokenizer = AutoTokenizer.from_pretrained(model_dir)\n",
    "aggregation_strategy = \"average\"\n",
    "pipe = pipeline(\n",
    "    task=\"token-classification\", model=model, tokenizer=tokenizer, aggregation_strategy=aggregation_strategy\n",
    ")"
   ]
  },
  {
   "cell_type": "code",
   "execution_count": null,
   "metadata": {},
   "outputs": [],
   "source": [
    "for index, row in enumerate(tokenized_ds[\"test\"]):\n",
    "    if index < 5:\n",
    "        text = \" \".join(row[\"tokens\"])\n",
    "        othertags = [id2label[id] for id in row[\"ner_tags\"]]\n",
    "        pipe_output = pipe(text)\n",
    "        print(f\"Row: {index}\")\n",
    "        print(f\"Transaction: {text}\")\n",
    "        print(f\"Actual NER tags: {othertags}\")\n",
    "        for output in pipe_output:\n",
    "            print(output)\n",
    "        print(\"\\n\")"
   ]
  },
  {
   "cell_type": "code",
   "execution_count": null,
   "metadata": {},
   "outputs": [],
   "source": [
    "from evaluate import evaluator\n",
    "\n",
    "task_evaluator = evaluator(\"token-classification\")\n",
    "pipe = pipeline(\n",
    "    task=\"token-classification\", model=model, tokenizer=tokenizer\n",
    ")\n",
    "\n",
    "results = task_evaluator.compute(\n",
    "    model_or_pipeline=pipe,\n",
    "    data=tokenized_ds[\"test\"],\n",
    "    metric=\"seqeval\",\n",
    "    input_column=\"tokens\",\n",
    "    label_column=\"ner_tags\",\n",
    "    join_by=\" \"\n",
    ")\n",
    "results"
   ]
  },
  {
   "cell_type": "code",
   "execution_count": null,
   "metadata": {},
   "outputs": [],
   "source": [
    "overall_metrics = { \n",
    "    \"OVERALL\": {\n",
    "        \"precision\": results[\"overall_precision\"],\n",
    "        \"recall\": results[\"overall_recall\"],\n",
    "        \"f1\": results[\"overall_f1\"],\n",
    "        \"number\": np.NaN\n",
    "    }\n",
    "}\n",
    "\n",
    "keys_to_keep = [\"LOC\", \"MISC\", \"ORG\", \"PER\"]\n",
    "metrics = {key: results[key] for key in keys_to_keep if key in results}\n",
    "metrics.update(overall_metrics)\n",
    "metrics"
   ]
  },
  {
   "cell_type": "code",
   "execution_count": null,
   "metadata": {},
   "outputs": [],
   "source": [
    "metric_df = (\n",
    "    pd.DataFrame(metrics)\n",
    "    .transpose()\n",
    ")\n",
    "metric_df"
   ]
  },
  {
   "cell_type": "code",
   "execution_count": null,
   "metadata": {},
   "outputs": [],
   "source": [
    "(\n",
    "    metric_df\n",
    "    .drop([\"number\"], axis=1)\n",
    "    .plot(\n",
    "        kind=\"barh\",\n",
    "        title=\"Testing Metrics per Entity\",\n",
    "        xlabel=\"Score\"\n",
    "    )\n",
    "    .legend(bbox_to_anchor=(1,1))\n",
    ")"
   ]
  },
  {
   "cell_type": "code",
   "execution_count": null,
   "metadata": {},
   "outputs": [],
   "source": [
    "(\n",
    "    metric_df[\"number\"]\n",
    "    .drop('OVERALL')\n",
    "    .plot(\n",
    "        kind=\"barh\",\n",
    "        title=\"Frequency of each Entity\"\n",
    "    )\n",
    ")"
   ]
  }
 ],
 "metadata": {
  "kernelspec": {
   "display_name": "genetic",
   "language": "python",
   "name": "python3"
  },
  "language_info": {
   "codemirror_mode": {
    "name": "ipython",
    "version": 3
   },
   "file_extension": ".py",
   "mimetype": "text/x-python",
   "name": "python",
   "nbconvert_exporter": "python",
   "pygments_lexer": "ipython3",
   "version": "3.11.11"
  }
 },
 "nbformat": 4,
 "nbformat_minor": 2
}
