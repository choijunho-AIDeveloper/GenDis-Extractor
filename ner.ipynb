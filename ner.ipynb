{
 "cells": [
  {
   "cell_type": "markdown",
   "metadata": {},
   "source": [
    "# NER(Named Entity Recognition)"
   ]
  },
  {
   "cell_type": "markdown",
   "metadata": {},
   "source": [
    "#### What is Named Entity Recognition?\n",
    "- NLP technology that identifie specific entities in text(can used to extract gene, varient, disease)."
   ]
  },
  {
   "cell_type": "markdown",
   "metadata": {},
   "source": [
    "#### How can use Transformer for NER?\n",
    "- Tokenize the text and pass it to the Transformer Model.\n",
    "- Predict NER tags for each Token."
   ]
  },
  {
   "cell_type": "markdown",
   "metadata": {},
   "source": [
    "#### Load Dataset\n",
    "- Using https://huggingface.co/datasets/eriktks/conll2003"
   ]
  },
  {
   "cell_type": "code",
   "execution_count": 20,
   "metadata": {},
   "outputs": [
    {
     "data": {
      "text/plain": [
       "DatasetDict({\n",
       "    train: Dataset({\n",
       "        features: ['id', 'tokens', 'pos_tags', 'chunk_tags', 'ner_tags'],\n",
       "        num_rows: 7020\n",
       "    })\n",
       "    validation: Dataset({\n",
       "        features: ['id', 'tokens', 'pos_tags', 'chunk_tags', 'ner_tags'],\n",
       "        num_rows: 3250\n",
       "    })\n",
       "    test: Dataset({\n",
       "        features: ['id', 'tokens', 'pos_tags', 'chunk_tags', 'ner_tags'],\n",
       "        num_rows: 3453\n",
       "    })\n",
       "})"
      ]
     },
     "execution_count": 20,
     "metadata": {},
     "output_type": "execute_result"
    }
   ],
   "source": [
    "from datasets import load_dataset\n",
    "\n",
    "dataset = load_dataset(\"conll2003\", trust_remote_code = True)\n",
    "# Cut the training split in half for demonstration purposes. I AINT GOT ALL DAY\n",
    "dataset[\"train\"] = dataset[\"train\"].train_test_split(test_size=0.5)[\"train\"]\n",
    "dataset"
   ]
  },
  {
   "cell_type": "markdown",
   "metadata": {},
   "source": [
    "#### Which Key in Dataset"
   ]
  },
  {
   "cell_type": "code",
   "execution_count": 21,
   "metadata": {},
   "outputs": [
    {
     "data": {
      "text/plain": [
       "dict_keys(['id', 'tokens', 'pos_tags', 'chunk_tags', 'ner_tags'])"
      ]
     },
     "execution_count": 21,
     "metadata": {},
     "output_type": "execute_result"
    }
   ],
   "source": [
    "dataset[\"train\"].features.keys()"
   ]
  },
  {
   "cell_type": "markdown",
   "metadata": {},
   "source": [
    "#### Extract Real Label"
   ]
  },
  {
   "cell_type": "code",
   "execution_count": 22,
   "metadata": {},
   "outputs": [
    {
     "data": {
      "text/plain": [
       "Sequence(feature=ClassLabel(names=['O', 'B-PER', 'I-PER', 'B-ORG', 'I-ORG', 'B-LOC', 'I-LOC', 'B-MISC', 'I-MISC'], id=None), length=-1, id=None)"
      ]
     },
     "execution_count": 22,
     "metadata": {},
     "output_type": "execute_result"
    }
   ],
   "source": [
    "dataset[\"train\"].features[\"ner_tags\"]"
   ]
  },
  {
   "cell_type": "code",
   "execution_count": 23,
   "metadata": {},
   "outputs": [
    {
     "data": {
      "text/plain": [
       "['O', 'B-PER', 'I-PER', 'B-ORG', 'I-ORG', 'B-LOC', 'I-LOC', 'B-MISC', 'I-MISC']"
      ]
     },
     "execution_count": 23,
     "metadata": {},
     "output_type": "execute_result"
    }
   ],
   "source": [
    "label_list = dataset[\"train\"].features[\"ner_tags\"].feature.names\n",
    "dataset = dataset.remove_columns(['pos_tags', 'chunk_tags'])\n",
    "\n",
    "label_list"
   ]
  },
  {
   "cell_type": "markdown",
   "metadata": {},
   "source": [
    "#### Tokenizing Data"
   ]
  },
  {
   "cell_type": "code",
   "execution_count": 24,
   "metadata": {},
   "outputs": [],
   "source": [
    "from transformers import AutoTokenizer\n",
    "\n",
    "model_name = \"distilbert-base-uncased\"\n",
    "tokenizer = AutoTokenizer.from_pretrained(model_name)"
   ]
  },
  {
   "cell_type": "code",
   "execution_count": 25,
   "metadata": {},
   "outputs": [
    {
     "name": "stdout",
     "output_type": "stream",
     "text": [
      "Origin : ['Both', 'legs', 'ended', '1-1', 'before', 'Ethiopia', 'won', 'the', 'spot', 'kick', 'decider', '4-2', '.']\n",
      "Update : ['[CLS]', 'both', 'legs', 'ended', '1', '-', '1', 'before', 'ethiopia', 'won', 'the', 'spot', 'kick', 'decide', '##r', '4', '-', '2', '.', '[SEP]']\n"
     ]
    }
   ],
   "source": [
    "example_row = dataset[\"train\"][0]\n",
    "tokenized_input = tokenizer(example_row[\"tokens\"], is_split_into_words=True)\n",
    "tokens = tokenizer.convert_ids_to_tokens(tokenized_input[\"input_ids\"])\n",
    "\n",
    "print(f\"Origin : {example_row['tokens']}\")\n",
    "print(f\"Update : {tokens}\")"
   ]
  },
  {
   "cell_type": "markdown",
   "metadata": {},
   "source": [
    "#### Token and Label alignment\n",
    "- Why use?\n",
    "    - preprocess subword(e.g.Washington -> Wash + ##ington) ##ington to '-100'(for not use)\n",
    "    - Special Token(e.g.[CLS], [SEP]) to '-100'(for not use)"
   ]
  },
  {
   "cell_type": "code",
   "execution_count": 26,
   "metadata": {},
   "outputs": [],
   "source": [
    "from transformers import PreTrainedTokenizer\n",
    "\n",
    "def tokenize_and_align_labels(examples, tokenizer: PreTrainedTokenizer, label_all_word_parts: bool=False):\n",
    "    \n",
    "    tokenized_inputs = tokenizer(examples[\"tokens\"], truncation=True, is_split_into_words=True)\n",
    "\n",
    "    labels = []\n",
    "    for i, label in enumerate(examples[f\"ner_tags\"]):\n",
    "        word_ids = tokenized_inputs.word_ids(batch_index=i)  # Map tokens to their respective word.\n",
    "        previous_word_idx = None\n",
    "        label_ids = []\n",
    "        for word_idx in word_ids:  # Set the special tokens to -100.\n",
    "            if word_idx is None:\n",
    "                label_ids.append(-100)\n",
    "            # Default behavior only labels the first token of a given word\n",
    "            # But sometimes you may want to label all the word parts for very specific use cases.\n",
    "            elif label_all_word_parts or (word_idx != previous_word_idx):\n",
    "                label_ids.append(label[word_idx])\n",
    "            else:\n",
    "                label_ids.append(-100)\n",
    "            previous_word_idx = word_idx\n",
    "        labels.append(label_ids)\n",
    "\n",
    "    tokenized_inputs[\"labels\"] = labels\n",
    "    return tokenized_inputs"
   ]
  },
  {
   "cell_type": "code",
   "execution_count": 27,
   "metadata": {},
   "outputs": [
    {
     "data": {
      "application/vnd.jupyter.widget-view+json": {
       "model_id": "92b850b924734a448d757f59696d9698",
       "version_major": 2,
       "version_minor": 0
      },
      "text/plain": [
       "Map:   0%|          | 0/3250 [00:00<?, ? examples/s]"
      ]
     },
     "metadata": {},
     "output_type": "display_data"
    }
   ],
   "source": [
    "tokenized_ds = dataset.map(\n",
    "    lambda examples: tokenize_and_align_labels(examples, tokenizer=tokenizer),\n",
    "    batched=True\n",
    ")"
   ]
  },
  {
   "cell_type": "markdown",
   "metadata": {},
   "source": [
    "#### Config correctly apply label"
   ]
  },
  {
   "cell_type": "code",
   "execution_count": 28,
   "metadata": {},
   "outputs": [
    {
     "name": "stdout",
     "output_type": "stream",
     "text": [
      "dict_keys(['id', 'tokens', 'ner_tags', 'input_ids', 'attention_mask', 'labels'])\n",
      "input_ids: [101, 2119, 3456, 3092, 1015, 1011, 1015, 2077, 11154, 2180, 1996, 3962, 5926, 5630, 2099, 1018, 1011, 1016, 1012, 102]\n",
      "labels: [-100, 0, 0, 0, 0, -100, -100, 0, 5, 0, 0, 0, 0, 0, -100, 0, -100, -100, 0, -100]\n",
      "attention: [1, 1, 1, 1, 1, 1, 1, 1, 1, 1, 1, 1, 1, 1, 1, 1, 1, 1, 1, 1]\n",
      "\n",
      "translated ids and labels:\n",
      "[CLS] -100\n",
      "both O\n",
      "legs O\n",
      "ended O\n",
      "1 O\n",
      "- -100\n",
      "1 -100\n",
      "before O\n",
      "ethiopia B-LOC\n",
      "won O\n",
      "the O\n",
      "spot O\n",
      "kick O\n",
      "decide O\n",
      "##r -100\n",
      "4 O\n",
      "- -100\n",
      "2 -100\n",
      ". O\n",
      "[SEP] -100\n"
     ]
    }
   ],
   "source": [
    "import numpy as np\n",
    "example = tokenized_ds['train'][0]\n",
    "\n",
    "print(example.keys())\n",
    "print(f\"input_ids: {example['input_ids']}\")\n",
    "print(f\"labels: {example['labels']}\")\n",
    "print(f\"attention: {example['attention_mask']}\")\n",
    "decoded_ids = [tokenizer.decode(id) for id in example[\"input_ids\"]]\n",
    "translated_labels = [label_list[label] if label != -100 else label for label in example['labels']]\n",
    "print(\"\\ntranslated ids and labels:\")\n",
    "for i in np.arange(len(example['input_ids'])):\n",
    "    print(decoded_ids[i], translated_labels[i])"
   ]
  },
  {
   "cell_type": "markdown",
   "metadata": {},
   "source": [
    "#### Config Length Match\n",
    "- Why length not match token and input ids?\n",
    "    - token is origin Token\n",
    "    - input ids is Token to Subtoken transformed\n",
    "- What is attention mask?\n",
    "    - If data length is short, Zero padding for length matching"
   ]
  },
  {
   "cell_type": "code",
   "execution_count": 29,
   "metadata": {},
   "outputs": [
    {
     "name": "stdout",
     "output_type": "stream",
     "text": [
      "Tokens Length: 13\n",
      "NER Tags Length: 13\n",
      "Input IDs Length: 20\n",
      "Attention Mask Length: 20\n",
      "Labels Length: 20\n",
      "\n",
      "Tokens Length: 41\n",
      "NER Tags Length: 41\n",
      "Input IDs Length: 51\n",
      "Attention Mask Length: 51\n",
      "Labels Length: 51\n",
      "\n",
      "Tokens Length: 31\n",
      "NER Tags Length: 31\n",
      "Input IDs Length: 37\n",
      "Attention Mask Length: 37\n",
      "Labels Length: 37\n",
      "\n"
     ]
    }
   ],
   "source": [
    "for index, example in enumerate(tokenized_ds['train']):\n",
    "    if index < 3:\n",
    "        tokens_length = len(example['tokens'])\n",
    "        ner_tags_length = len(example['ner_tags'])\n",
    "        input_ids_length = len(example['input_ids'])\n",
    "        attention_mask_length = len(example['attention_mask'])\n",
    "        labels_length = len(example['labels'])\n",
    "        \n",
    "        # Print the lengths for each feature in this row\n",
    "        print(f'Tokens Length: {tokens_length}')\n",
    "        print(f'NER Tags Length: {ner_tags_length}')\n",
    "        print(f'Input IDs Length: {input_ids_length}')\n",
    "        print(f'Attention Mask Length: {attention_mask_length}')\n",
    "        print(f'Labels Length: {labels_length}\\n')"
   ]
  },
  {
   "cell_type": "markdown",
   "metadata": {},
   "source": [
    "#### Build Trainer"
   ]
  },
  {
   "cell_type": "code",
   "execution_count": 30,
   "metadata": {},
   "outputs": [],
   "source": [
    "from transformers import (\n",
    "    DataCollatorForTokenClassification, \n",
    "    AutoModelForTokenClassification, \n",
    "    TrainingArguments, \n",
    "    Trainer, \n",
    "    EarlyStoppingCallback\n",
    ")"
   ]
  },
  {
   "cell_type": "markdown",
   "metadata": {},
   "source": [
    "#### Data Collator\n",
    "- Padding Batch(Not All) for Memory Reduce"
   ]
  },
  {
   "cell_type": "code",
   "execution_count": 31,
   "metadata": {},
   "outputs": [],
   "source": [
    "data_collator = DataCollatorForTokenClassification(tokenizer=tokenizer)"
   ]
  },
  {
   "cell_type": "markdown",
   "metadata": {},
   "source": [
    "#### Evaluation Function"
   ]
  },
  {
   "cell_type": "code",
   "execution_count": 32,
   "metadata": {},
   "outputs": [],
   "source": [
    "import evaluate\n",
    "seqeval = evaluate.load(\"seqeval\")\n",
    "\n",
    "def compute_metrics(p):\n",
    "    predictions, labels = p\n",
    "    predictions = np.argmax(predictions, axis=2)\n",
    "\n",
    "    true_predictions = [\n",
    "        [label_list[p] for (p, l) in zip(prediction, label) if l != -100]\n",
    "        for prediction, label in zip(predictions, labels)\n",
    "    ]\n",
    "    true_labels = [\n",
    "        [label_list[l] for (p, l) in zip(prediction, label) if l != -100]\n",
    "        for prediction, label in zip(predictions, labels)\n",
    "    ]\n",
    "\n",
    "    results = seqeval.compute(predictions=true_predictions, references=true_labels)\n",
    "    return {\n",
    "        \"precision\": results[\"overall_precision\"],\n",
    "        \"recall\": results[\"overall_recall\"],\n",
    "        \"f1\": results[\"overall_f1\"],\n",
    "        \"accuracy\": results[\"overall_accuracy\"],\n",
    "    }"
   ]
  },
  {
   "cell_type": "code",
   "execution_count": 33,
   "metadata": {},
   "outputs": [
    {
     "name": "stdout",
     "output_type": "stream",
     "text": [
      "label2id: {'O': 0, 'B-PER': 1, 'I-PER': 2, 'B-ORG': 3, 'I-ORG': 4, 'B-LOC': 5, 'I-LOC': 6, 'B-MISC': 7, 'I-MISC': 8}\n",
      "id2label: {0: 'O', 1: 'B-PER', 2: 'I-PER', 3: 'B-ORG', 4: 'I-ORG', 5: 'B-LOC', 6: 'I-LOC', 7: 'B-MISC', 8: 'I-MISC'}\n"
     ]
    }
   ],
   "source": [
    "label2id = {label: index for index, label in enumerate(label_list)}\n",
    "id2label = {value: key for key, value in label2id.items()}\n",
    "\n",
    "print(f\"label2id: {label2id}\")\n",
    "print(f\"id2label: {id2label}\")"
   ]
  },
  {
   "cell_type": "markdown",
   "metadata": {},
   "source": [
    "#### Model Initialize\n",
    "- For consistency when Hyperparameter Tuning"
   ]
  },
  {
   "cell_type": "code",
   "execution_count": 34,
   "metadata": {},
   "outputs": [],
   "source": [
    "def model_init():\n",
    "    return AutoModelForTokenClassification.from_pretrained(\n",
    "        model_name, \n",
    "        num_labels=len(id2label.keys()), \n",
    "        id2label=id2label, \n",
    "        label2id=label2id\n",
    "    )"
   ]
  },
  {
   "cell_type": "code",
   "execution_count": 35,
   "metadata": {},
   "outputs": [],
   "source": [
    "training_args = TrainingArguments(\n",
    "    output_dir=\"../models/holding_zone\",\n",
    "    learning_rate=2e-5,\n",
    "    per_device_train_batch_size=16,\n",
    "    per_device_eval_batch_size=16,\n",
    "    num_train_epochs=5,\n",
    "    weight_decay=0.01,\n",
    "    logging_strategy=\"epoch\",\n",
    "    eval_strategy=\"epoch\",\n",
    "    metric_for_best_model=\"eval_loss\",\n",
    "    save_strategy=\"no\",\n",
    "    push_to_hub=False,\n",
    "    remove_unused_columns=False\n",
    ")"
   ]
  },
  {
   "cell_type": "code",
   "execution_count": 36,
   "metadata": {},
   "outputs": [
    {
     "name": "stderr",
     "output_type": "stream",
     "text": [
      "C:\\Users\\aaaa\\AppData\\Local\\Temp\\ipykernel_18932\\2611462767.py:1: FutureWarning: `tokenizer` is deprecated and will be removed in version 5.0.0 for `Trainer.__init__`. Use `processing_class` instead.\n",
      "  trainer = Trainer(\n",
      "Some weights of DistilBertForTokenClassification were not initialized from the model checkpoint at distilbert-base-uncased and are newly initialized: ['classifier.bias', 'classifier.weight']\n",
      "You should probably TRAIN this model on a down-stream task to be able to use it for predictions and inference.\n"
     ]
    }
   ],
   "source": [
    "trainer = Trainer(\n",
    "    model=None,\n",
    "    args=training_args,\n",
    "    train_dataset=tokenized_ds[\"train\"].remove_columns([\"id\", \"tokens\", \"ner_tags\"]),\n",
    "    eval_dataset=tokenized_ds[\"validation\"].remove_columns([\"id\", \"tokens\", \"ner_tags\"]),\n",
    "    compute_metrics=compute_metrics,\n",
    "    tokenizer=tokenizer,\n",
    "    model_init=model_init,\n",
    "    data_collator=data_collator\n",
    ")"
   ]
  },
  {
   "cell_type": "markdown",
   "metadata": {},
   "source": [
    "#### Hyperparameter Tuning"
   ]
  },
  {
   "cell_type": "code",
   "execution_count": 37,
   "metadata": {},
   "outputs": [],
   "source": [
    "import optuna\n",
    "\n",
    "def optuna_hp_space(trial):\n",
    "    return {\n",
    "        \"learning_rate\": trial.suggest_float(\"learning_rate\", 2e-5, 5e-5, log=True),\n",
    "        \"per_device_train_batch_size\": trial.suggest_categorical(\"per_device_train_batch_size\", [6, 8, 16]),\n",
    "        \"per_device_eval_batch_size\": trial.suggest_categorical(\"per_device_eval_batch_size\", [6, 8, 16])\n",
    "    }"
   ]
  },
  {
   "cell_type": "code",
   "execution_count": 38,
   "metadata": {},
   "outputs": [
    {
     "name": "stderr",
     "output_type": "stream",
     "text": [
      "[I 2025-03-03 15:40:57,907] A new study created in memory with name: no-name-14caf1a3-adb5-403a-b657-e8742561ef74\n",
      "Some weights of DistilBertForTokenClassification were not initialized from the model checkpoint at distilbert-base-uncased and are newly initialized: ['classifier.bias', 'classifier.weight']\n",
      "You should probably TRAIN this model on a down-stream task to be able to use it for predictions and inference.\n"
     ]
    },
    {
     "data": {
      "text/html": [
       "\n",
       "    <div>\n",
       "      \n",
       "      <progress value='2195' max='2195' style='width:300px; height:20px; vertical-align: middle;'></progress>\n",
       "      [2195/2195 02:30, Epoch 5/5]\n",
       "    </div>\n",
       "    <table border=\"1\" class=\"dataframe\">\n",
       "  <thead>\n",
       " <tr style=\"text-align: left;\">\n",
       "      <th>Epoch</th>\n",
       "      <th>Training Loss</th>\n",
       "      <th>Validation Loss</th>\n",
       "      <th>Precision</th>\n",
       "      <th>Recall</th>\n",
       "      <th>F1</th>\n",
       "      <th>Accuracy</th>\n",
       "    </tr>\n",
       "  </thead>\n",
       "  <tbody>\n",
       "    <tr>\n",
       "      <td>1</td>\n",
       "      <td>0.226600</td>\n",
       "      <td>0.077604</td>\n",
       "      <td>0.878445</td>\n",
       "      <td>0.901212</td>\n",
       "      <td>0.889683</td>\n",
       "      <td>0.980706</td>\n",
       "    </tr>\n",
       "    <tr>\n",
       "      <td>2</td>\n",
       "      <td>0.052700</td>\n",
       "      <td>0.061488</td>\n",
       "      <td>0.906312</td>\n",
       "      <td>0.918209</td>\n",
       "      <td>0.912222</td>\n",
       "      <td>0.983548</td>\n",
       "    </tr>\n",
       "    <tr>\n",
       "      <td>3</td>\n",
       "      <td>0.031400</td>\n",
       "      <td>0.060069</td>\n",
       "      <td>0.913159</td>\n",
       "      <td>0.927297</td>\n",
       "      <td>0.920174</td>\n",
       "      <td>0.985086</td>\n",
       "    </tr>\n",
       "    <tr>\n",
       "      <td>4</td>\n",
       "      <td>0.019500</td>\n",
       "      <td>0.060384</td>\n",
       "      <td>0.921784</td>\n",
       "      <td>0.932178</td>\n",
       "      <td>0.926952</td>\n",
       "      <td>0.985982</td>\n",
       "    </tr>\n",
       "    <tr>\n",
       "      <td>5</td>\n",
       "      <td>0.014800</td>\n",
       "      <td>0.061304</td>\n",
       "      <td>0.921608</td>\n",
       "      <td>0.933861</td>\n",
       "      <td>0.927694</td>\n",
       "      <td>0.986040</td>\n",
       "    </tr>\n",
       "  </tbody>\n",
       "</table><p>"
      ],
      "text/plain": [
       "<IPython.core.display.HTML object>"
      ]
     },
     "metadata": {},
     "output_type": "display_data"
    },
    {
     "name": "stderr",
     "output_type": "stream",
     "text": [
      "[I 2025-03-03 15:43:29,460] Trial 0 finished with value: 3.7692023448799468 and parameters: {'learning_rate': 2.0100007130314223e-05, 'per_device_train_batch_size': 16, 'per_device_eval_batch_size': 8}. Best is trial 0 with value: 3.7692023448799468.\n",
      "Some weights of DistilBertForTokenClassification were not initialized from the model checkpoint at distilbert-base-uncased and are newly initialized: ['classifier.bias', 'classifier.weight']\n",
      "You should probably TRAIN this model on a down-stream task to be able to use it for predictions and inference.\n"
     ]
    },
    {
     "data": {
      "text/html": [
       "\n",
       "    <div>\n",
       "      \n",
       "      <progress value='4390' max='4390' style='width:300px; height:20px; vertical-align: middle;'></progress>\n",
       "      [4390/4390 03:22, Epoch 5/5]\n",
       "    </div>\n",
       "    <table border=\"1\" class=\"dataframe\">\n",
       "  <thead>\n",
       " <tr style=\"text-align: left;\">\n",
       "      <th>Epoch</th>\n",
       "      <th>Training Loss</th>\n",
       "      <th>Validation Loss</th>\n",
       "      <th>Precision</th>\n",
       "      <th>Recall</th>\n",
       "      <th>F1</th>\n",
       "      <th>Accuracy</th>\n",
       "    </tr>\n",
       "  </thead>\n",
       "  <tbody>\n",
       "    <tr>\n",
       "      <td>1</td>\n",
       "      <td>0.134500</td>\n",
       "      <td>0.070997</td>\n",
       "      <td>0.913277</td>\n",
       "      <td>0.914507</td>\n",
       "      <td>0.913892</td>\n",
       "      <td>0.983042</td>\n",
       "    </tr>\n",
       "    <tr>\n",
       "      <td>2</td>\n",
       "      <td>0.034800</td>\n",
       "      <td>0.065458</td>\n",
       "      <td>0.921549</td>\n",
       "      <td>0.929148</td>\n",
       "      <td>0.925333</td>\n",
       "      <td>0.985164</td>\n",
       "    </tr>\n",
       "    <tr>\n",
       "      <td>3</td>\n",
       "      <td>0.016600</td>\n",
       "      <td>0.069122</td>\n",
       "      <td>0.926899</td>\n",
       "      <td>0.932514</td>\n",
       "      <td>0.929698</td>\n",
       "      <td>0.985729</td>\n",
       "    </tr>\n",
       "    <tr>\n",
       "      <td>4</td>\n",
       "      <td>0.008500</td>\n",
       "      <td>0.068060</td>\n",
       "      <td>0.928965</td>\n",
       "      <td>0.935375</td>\n",
       "      <td>0.932159</td>\n",
       "      <td>0.986371</td>\n",
       "    </tr>\n",
       "    <tr>\n",
       "      <td>5</td>\n",
       "      <td>0.004300</td>\n",
       "      <td>0.073846</td>\n",
       "      <td>0.932464</td>\n",
       "      <td>0.938741</td>\n",
       "      <td>0.935592</td>\n",
       "      <td>0.986897</td>\n",
       "    </tr>\n",
       "  </tbody>\n",
       "</table><p>"
      ],
      "text/plain": [
       "<IPython.core.display.HTML object>"
      ]
     },
     "metadata": {},
     "output_type": "display_data"
    },
    {
     "name": "stderr",
     "output_type": "stream",
     "text": [
      "[I 2025-03-03 15:46:52,499] Trial 1 finished with value: 3.7936942343175337 and parameters: {'learning_rate': 3.992014893400809e-05, 'per_device_train_batch_size': 8, 'per_device_eval_batch_size': 8}. Best is trial 0 with value: 3.7692023448799468.\n",
      "Some weights of DistilBertForTokenClassification were not initialized from the model checkpoint at distilbert-base-uncased and are newly initialized: ['classifier.bias', 'classifier.weight']\n",
      "You should probably TRAIN this model on a down-stream task to be able to use it for predictions and inference.\n"
     ]
    },
    {
     "data": {
      "text/html": [
       "\n",
       "    <div>\n",
       "      \n",
       "      <progress value='2195' max='2195' style='width:300px; height:20px; vertical-align: middle;'></progress>\n",
       "      [2195/2195 02:32, Epoch 5/5]\n",
       "    </div>\n",
       "    <table border=\"1\" class=\"dataframe\">\n",
       "  <thead>\n",
       " <tr style=\"text-align: left;\">\n",
       "      <th>Epoch</th>\n",
       "      <th>Training Loss</th>\n",
       "      <th>Validation Loss</th>\n",
       "      <th>Precision</th>\n",
       "      <th>Recall</th>\n",
       "      <th>F1</th>\n",
       "      <th>Accuracy</th>\n",
       "    </tr>\n",
       "  </thead>\n",
       "  <tbody>\n",
       "    <tr>\n",
       "      <td>1</td>\n",
       "      <td>0.181000</td>\n",
       "      <td>0.068294</td>\n",
       "      <td>0.900716</td>\n",
       "      <td>0.909963</td>\n",
       "      <td>0.905316</td>\n",
       "      <td>0.982205</td>\n",
       "    </tr>\n",
       "    <tr>\n",
       "      <td>2</td>\n",
       "      <td>0.041200</td>\n",
       "      <td>0.057181</td>\n",
       "      <td>0.922372</td>\n",
       "      <td>0.931841</td>\n",
       "      <td>0.927082</td>\n",
       "      <td>0.985320</td>\n",
       "    </tr>\n",
       "    <tr>\n",
       "      <td>3</td>\n",
       "      <td>0.021600</td>\n",
       "      <td>0.057513</td>\n",
       "      <td>0.928178</td>\n",
       "      <td>0.935207</td>\n",
       "      <td>0.931679</td>\n",
       "      <td>0.986605</td>\n",
       "    </tr>\n",
       "    <tr>\n",
       "      <td>4</td>\n",
       "      <td>0.011700</td>\n",
       "      <td>0.060202</td>\n",
       "      <td>0.926801</td>\n",
       "      <td>0.937563</td>\n",
       "      <td>0.932151</td>\n",
       "      <td>0.987111</td>\n",
       "    </tr>\n",
       "    <tr>\n",
       "      <td>5</td>\n",
       "      <td>0.007500</td>\n",
       "      <td>0.064270</td>\n",
       "      <td>0.929143</td>\n",
       "      <td>0.937900</td>\n",
       "      <td>0.933501</td>\n",
       "      <td>0.986819</td>\n",
       "    </tr>\n",
       "  </tbody>\n",
       "</table><p>"
      ],
      "text/plain": [
       "<IPython.core.display.HTML object>"
      ]
     },
     "metadata": {},
     "output_type": "display_data"
    },
    {
     "name": "stderr",
     "output_type": "stream",
     "text": [
      "[I 2025-03-03 15:49:26,205] Trial 2 finished with value: 3.787362631377641 and parameters: {'learning_rate': 3.236978825527325e-05, 'per_device_train_batch_size': 16, 'per_device_eval_batch_size': 6}. Best is trial 0 with value: 3.7692023448799468.\n"
     ]
    },
    {
     "data": {
      "text/plain": [
       "BestRun(run_id='0', objective=3.7692023448799468, hyperparameters={'learning_rate': 2.0100007130314223e-05, 'per_device_train_batch_size': 16, 'per_device_eval_batch_size': 8}, run_summary=None)"
      ]
     },
     "execution_count": 38,
     "metadata": {},
     "output_type": "execute_result"
    }
   ],
   "source": [
    "best_trial = trainer.hyperparameter_search(\n",
    "    direction=\"minimize\",\n",
    "    backend=\"optuna\",\n",
    "    hp_space=optuna_hp_space,\n",
    "    n_trials=3\n",
    ")\n",
    "\n",
    "best_trial"
   ]
  },
  {
   "cell_type": "code",
   "execution_count": 39,
   "metadata": {},
   "outputs": [
    {
     "data": {
      "text/plain": [
       "{'learning_rate': 2.0100007130314223e-05,\n",
       " 'per_device_train_batch_size': 16,\n",
       " 'per_device_eval_batch_size': 8}"
      ]
     },
     "execution_count": 39,
     "metadata": {},
     "output_type": "execute_result"
    }
   ],
   "source": [
    "best_parameters = best_trial.hyperparameters\n",
    "best_parameters"
   ]
  },
  {
   "cell_type": "code",
   "execution_count": 40,
   "metadata": {},
   "outputs": [
    {
     "name": "stderr",
     "output_type": "stream",
     "text": [
      "c:\\Users\\aaaa\\anaconda3\\envs\\genetic\\Lib\\site-packages\\transformers\\training_args.py:1594: FutureWarning: `evaluation_strategy` is deprecated and will be removed in version 4.46 of 🤗 Transformers. Use `eval_strategy` instead\n",
      "  warnings.warn(\n",
      "C:\\Users\\aaaa\\AppData\\Local\\Temp\\ipykernel_18932\\1382496696.py:18: FutureWarning: `tokenizer` is deprecated and will be removed in version 5.0.0 for `Trainer.__init__`. Use `processing_class` instead.\n",
      "  trainer = Trainer(\n",
      "Some weights of DistilBertForTokenClassification were not initialized from the model checkpoint at distilbert-base-uncased and are newly initialized: ['classifier.bias', 'classifier.weight']\n",
      "You should probably TRAIN this model on a down-stream task to be able to use it for predictions and inference.\n"
     ]
    }
   ],
   "source": [
    "training_args = TrainingArguments(\n",
    "    output_dir=\"./models/holding_zone\",\n",
    "    learning_rate=best_parameters['learning_rate'],\n",
    "    per_device_train_batch_size=best_parameters['per_device_train_batch_size'],\n",
    "    per_device_eval_batch_size=best_parameters['per_device_eval_batch_size'],\n",
    "    num_train_epochs=5,\n",
    "    weight_decay=0.01,\n",
    "    logging_strategy=\"epoch\",\n",
    "    evaluation_strategy='epoch',\n",
    "    metric_for_best_model=\"eval_loss\",\n",
    "    push_to_hub=False,\n",
    "    remove_unused_columns=False,\n",
    "    save_strategy=\"epoch\",\n",
    "    save_total_limit=5,\n",
    "    load_best_model_at_end=True\n",
    ")\n",
    "\n",
    "trainer = Trainer(\n",
    "    model=None,\n",
    "    args=training_args,\n",
    "    train_dataset=tokenized_ds[\"train\"].remove_columns([\"id\", \"tokens\", \"ner_tags\"]),\n",
    "    eval_dataset=tokenized_ds[\"validation\"].remove_columns([\"id\", \"tokens\", \"ner_tags\"]),\n",
    "    compute_metrics=compute_metrics,\n",
    "    tokenizer=tokenizer,\n",
    "    model_init=model_init,\n",
    "    data_collator=data_collator,\n",
    "    callbacks = [EarlyStoppingCallback(early_stopping_patience=3)]\n",
    ")"
   ]
  },
  {
   "cell_type": "code",
   "execution_count": 41,
   "metadata": {},
   "outputs": [
    {
     "name": "stderr",
     "output_type": "stream",
     "text": [
      "Some weights of DistilBertForTokenClassification were not initialized from the model checkpoint at distilbert-base-uncased and are newly initialized: ['classifier.bias', 'classifier.weight']\n",
      "You should probably TRAIN this model on a down-stream task to be able to use it for predictions and inference.\n"
     ]
    },
    {
     "data": {
      "text/html": [
       "\n",
       "    <div>\n",
       "      \n",
       "      <progress value='2195' max='2195' style='width:300px; height:20px; vertical-align: middle;'></progress>\n",
       "      [2195/2195 02:39, Epoch 5/5]\n",
       "    </div>\n",
       "    <table border=\"1\" class=\"dataframe\">\n",
       "  <thead>\n",
       " <tr style=\"text-align: left;\">\n",
       "      <th>Epoch</th>\n",
       "      <th>Training Loss</th>\n",
       "      <th>Validation Loss</th>\n",
       "      <th>Precision</th>\n",
       "      <th>Recall</th>\n",
       "      <th>F1</th>\n",
       "      <th>Accuracy</th>\n",
       "    </tr>\n",
       "  </thead>\n",
       "  <tbody>\n",
       "    <tr>\n",
       "      <td>1</td>\n",
       "      <td>0.226600</td>\n",
       "      <td>0.077604</td>\n",
       "      <td>0.878445</td>\n",
       "      <td>0.901212</td>\n",
       "      <td>0.889683</td>\n",
       "      <td>0.980706</td>\n",
       "    </tr>\n",
       "    <tr>\n",
       "      <td>2</td>\n",
       "      <td>0.052700</td>\n",
       "      <td>0.061488</td>\n",
       "      <td>0.906312</td>\n",
       "      <td>0.918209</td>\n",
       "      <td>0.912222</td>\n",
       "      <td>0.983548</td>\n",
       "    </tr>\n",
       "    <tr>\n",
       "      <td>3</td>\n",
       "      <td>0.031400</td>\n",
       "      <td>0.060069</td>\n",
       "      <td>0.913159</td>\n",
       "      <td>0.927297</td>\n",
       "      <td>0.920174</td>\n",
       "      <td>0.985086</td>\n",
       "    </tr>\n",
       "    <tr>\n",
       "      <td>4</td>\n",
       "      <td>0.019500</td>\n",
       "      <td>0.060384</td>\n",
       "      <td>0.921784</td>\n",
       "      <td>0.932178</td>\n",
       "      <td>0.926952</td>\n",
       "      <td>0.985982</td>\n",
       "    </tr>\n",
       "    <tr>\n",
       "      <td>5</td>\n",
       "      <td>0.014800</td>\n",
       "      <td>0.061304</td>\n",
       "      <td>0.921608</td>\n",
       "      <td>0.933861</td>\n",
       "      <td>0.927694</td>\n",
       "      <td>0.986040</td>\n",
       "    </tr>\n",
       "  </tbody>\n",
       "</table><p>"
      ],
      "text/plain": [
       "<IPython.core.display.HTML object>"
      ]
     },
     "metadata": {},
     "output_type": "display_data"
    },
    {
     "data": {
      "text/plain": [
       "TrainOutput(global_step=2195, training_loss=0.06899104954713026, metrics={'train_runtime': 159.7835, 'train_samples_per_second': 219.672, 'train_steps_per_second': 13.737, 'total_flos': 428599470643848.0, 'train_loss': 0.06899104954713026, 'epoch': 5.0})"
      ]
     },
     "execution_count": 41,
     "metadata": {},
     "output_type": "execute_result"
    }
   ],
   "source": [
    "trainer.train()"
   ]
  },
  {
   "cell_type": "markdown",
   "metadata": {},
   "source": [
    "#### Result Visual"
   ]
  },
  {
   "cell_type": "code",
   "execution_count": 42,
   "metadata": {},
   "outputs": [
    {
     "data": {
      "text/html": [
       "<div>\n",
       "<style scoped>\n",
       "    .dataframe tbody tr th:only-of-type {\n",
       "        vertical-align: middle;\n",
       "    }\n",
       "\n",
       "    .dataframe tbody tr th {\n",
       "        vertical-align: top;\n",
       "    }\n",
       "\n",
       "    .dataframe thead th {\n",
       "        text-align: right;\n",
       "    }\n",
       "</style>\n",
       "<table border=\"1\" class=\"dataframe\">\n",
       "  <thead>\n",
       "    <tr style=\"text-align: right;\">\n",
       "      <th></th>\n",
       "      <th>loss</th>\n",
       "      <th>grad_norm</th>\n",
       "      <th>learning_rate</th>\n",
       "      <th>epoch</th>\n",
       "      <th>step</th>\n",
       "      <th>eval_loss</th>\n",
       "      <th>eval_precision</th>\n",
       "      <th>eval_recall</th>\n",
       "      <th>eval_f1</th>\n",
       "      <th>eval_accuracy</th>\n",
       "      <th>eval_runtime</th>\n",
       "      <th>eval_samples_per_second</th>\n",
       "      <th>eval_steps_per_second</th>\n",
       "    </tr>\n",
       "  </thead>\n",
       "  <tbody>\n",
       "    <tr>\n",
       "      <th>0</th>\n",
       "      <td>0.2266</td>\n",
       "      <td>1.211543</td>\n",
       "      <td>0.000016</td>\n",
       "      <td>1.0</td>\n",
       "      <td>439</td>\n",
       "      <td>0.077604</td>\n",
       "      <td>0.878445</td>\n",
       "      <td>0.901212</td>\n",
       "      <td>0.889683</td>\n",
       "      <td>0.980706</td>\n",
       "      <td>4.4188</td>\n",
       "      <td>735.500</td>\n",
       "      <td>92.107</td>\n",
       "    </tr>\n",
       "    <tr>\n",
       "      <th>1</th>\n",
       "      <td>0.0527</td>\n",
       "      <td>2.997071</td>\n",
       "      <td>0.000012</td>\n",
       "      <td>2.0</td>\n",
       "      <td>878</td>\n",
       "      <td>0.061488</td>\n",
       "      <td>0.906312</td>\n",
       "      <td>0.918209</td>\n",
       "      <td>0.912222</td>\n",
       "      <td>0.983548</td>\n",
       "      <td>4.1494</td>\n",
       "      <td>783.243</td>\n",
       "      <td>98.086</td>\n",
       "    </tr>\n",
       "    <tr>\n",
       "      <th>2</th>\n",
       "      <td>0.0314</td>\n",
       "      <td>0.728037</td>\n",
       "      <td>0.000008</td>\n",
       "      <td>3.0</td>\n",
       "      <td>1317</td>\n",
       "      <td>0.060069</td>\n",
       "      <td>0.913159</td>\n",
       "      <td>0.927297</td>\n",
       "      <td>0.920174</td>\n",
       "      <td>0.985086</td>\n",
       "      <td>4.1684</td>\n",
       "      <td>779.666</td>\n",
       "      <td>97.638</td>\n",
       "    </tr>\n",
       "    <tr>\n",
       "      <th>3</th>\n",
       "      <td>0.0195</td>\n",
       "      <td>3.074263</td>\n",
       "      <td>0.000004</td>\n",
       "      <td>4.0</td>\n",
       "      <td>1756</td>\n",
       "      <td>0.060384</td>\n",
       "      <td>0.921784</td>\n",
       "      <td>0.932178</td>\n",
       "      <td>0.926952</td>\n",
       "      <td>0.985982</td>\n",
       "      <td>4.1447</td>\n",
       "      <td>784.138</td>\n",
       "      <td>98.198</td>\n",
       "    </tr>\n",
       "    <tr>\n",
       "      <th>4</th>\n",
       "      <td>0.0148</td>\n",
       "      <td>0.931936</td>\n",
       "      <td>0.000000</td>\n",
       "      <td>5.0</td>\n",
       "      <td>2195</td>\n",
       "      <td>0.061304</td>\n",
       "      <td>0.921608</td>\n",
       "      <td>0.933861</td>\n",
       "      <td>0.927694</td>\n",
       "      <td>0.986040</td>\n",
       "      <td>4.2672</td>\n",
       "      <td>761.621</td>\n",
       "      <td>95.378</td>\n",
       "    </tr>\n",
       "  </tbody>\n",
       "</table>\n",
       "</div>"
      ],
      "text/plain": [
       "     loss  grad_norm  learning_rate  epoch  step  eval_loss  eval_precision  \\\n",
       "0  0.2266   1.211543       0.000016    1.0   439   0.077604        0.878445   \n",
       "1  0.0527   2.997071       0.000012    2.0   878   0.061488        0.906312   \n",
       "2  0.0314   0.728037       0.000008    3.0  1317   0.060069        0.913159   \n",
       "3  0.0195   3.074263       0.000004    4.0  1756   0.060384        0.921784   \n",
       "4  0.0148   0.931936       0.000000    5.0  2195   0.061304        0.921608   \n",
       "\n",
       "   eval_recall   eval_f1  eval_accuracy  eval_runtime  \\\n",
       "0     0.901212  0.889683       0.980706        4.4188   \n",
       "1     0.918209  0.912222       0.983548        4.1494   \n",
       "2     0.927297  0.920174       0.985086        4.1684   \n",
       "3     0.932178  0.926952       0.985982        4.1447   \n",
       "4     0.933861  0.927694       0.986040        4.2672   \n",
       "\n",
       "   eval_samples_per_second  eval_steps_per_second  \n",
       "0                  735.500                 92.107  \n",
       "1                  783.243                 98.086  \n",
       "2                  779.666                 97.638  \n",
       "3                  784.138                 98.198  \n",
       "4                  761.621                 95.378  "
      ]
     },
     "metadata": {},
     "output_type": "display_data"
    }
   ],
   "source": [
    "import pandas as pd\n",
    "\n",
    "train_logs = []\n",
    "valid_logs = []\n",
    "for index, x in enumerate(trainer.state.log_history):\n",
    "    if 'loss' in x.keys():\n",
    "        train_logs.append(x)\n",
    "    elif 'eval_loss' in x.keys():\n",
    "        valid_logs.append(x)\n",
    "    else:\n",
    "        pass\n",
    "\n",
    "train_logs = pd.DataFrame(train_logs)\n",
    "valid_logs = pd.DataFrame(valid_logs)\n",
    "logs = train_logs.merge(valid_logs, on=[\"epoch\", \"step\"])\n",
    "\n",
    "display(logs)"
   ]
  },
  {
   "cell_type": "code",
   "execution_count": 43,
   "metadata": {},
   "outputs": [
    {
     "data": {
      "text/plain": [
       "<Axes: title={'center': 'Training and Validation Loss over Epochs'}, xlabel='Epoch', ylabel='Loss'>"
      ]
     },
     "execution_count": 43,
     "metadata": {},
     "output_type": "execute_result"
    },
    {
     "data": {
      "image/png": "[encoded data removed]",
      "text/plain": [
       "<Figure size 640x480 with 1 Axes>"
      ]
     },
     "metadata": {},
     "output_type": "display_data"
    }
   ],
   "source": [
    "(\n",
    "    logs[[\"loss\", \"eval_loss\", \"epoch\"]]\n",
    "    .plot(\n",
    "        kind=\"line\",\n",
    "        x=\"epoch\", \n",
    "        title=\"Training and Validation Loss over Epochs\",\n",
    "        xlabel=\"Epoch\",\n",
    "        ylabel=\"Loss\",\n",
    "        xticks=np.arange(1,6)\n",
    "    )\n",
    ")"
   ]
  },
  {
   "cell_type": "code",
   "execution_count": 44,
   "metadata": {},
   "outputs": [
    {
     "data": {
      "text/plain": [
       "<Axes: title={'center': 'Validation Metrics over Epochs'}, xlabel='Epoch', ylabel='Score'>"
      ]
     },
     "execution_count": 44,
     "metadata": {},
     "output_type": "execute_result"
    },
    {
     "data": {
      "image/png": "[encoded data removed]",
      "text/plain": [
       "<Figure size 640x480 with 1 Axes>"
      ]
     },
     "metadata": {},
     "output_type": "display_data"
    }
   ],
   "source": [
    "(\n",
    "    logs[[\"epoch\", \"eval_precision\", \"eval_recall\", \"eval_f1\", \"eval_accuracy\"]]\n",
    "    .plot(\n",
    "        kind=\"line\",\n",
    "        x=\"epoch\",\n",
    "        title=\"Validation Metrics over Epochs\",\n",
    "        xlabel=\"Epoch\",\n",
    "        ylabel=\"Score\",\n",
    "        xticks=np.arange(1,6)\n",
    "    )\n",
    ")"
   ]
  },
  {
   "cell_type": "code",
   "execution_count": 45,
   "metadata": {},
   "outputs": [
    {
     "ename": "OSError",
     "evalue": "Incorrect path_or_model_id: './models/holding_zone/checkpoint-1756'. Please provide either the path to a local folder or the repo_id of a model on the Hub.",
     "output_type": "error",
     "traceback": [
      "\u001b[31m---------------------------------------------------------------------------\u001b[39m",
      "\u001b[31mHFValidationError\u001b[39m                         Traceback (most recent call last)",
      "\u001b[36mFile \u001b[39m\u001b[32mc:\\Users\\aaaa\\anaconda3\\envs\\genetic\\Lib\\site-packages\\transformers\\utils\\hub.py:342\u001b[39m, in \u001b[36mcached_file\u001b[39m\u001b[34m(path_or_repo_id, filename, cache_dir, force_download, resume_download, proxies, token, revision, local_files_only, subfolder, repo_type, user_agent, _raise_exceptions_for_gated_repo, _raise_exceptions_for_missing_entries, _raise_exceptions_for_connection_errors, _commit_hash, **deprecated_kwargs)\u001b[39m\n\u001b[32m    340\u001b[39m \u001b[38;5;28;01mtry\u001b[39;00m:\n\u001b[32m    341\u001b[39m     \u001b[38;5;66;03m# Load from URL or cache if already cached\u001b[39;00m\n\u001b[32m--> \u001b[39m\u001b[32m342\u001b[39m     resolved_file = \u001b[43mhf_hub_download\u001b[49m\u001b[43m(\u001b[49m\n\u001b[32m    343\u001b[39m \u001b[43m        \u001b[49m\u001b[43mpath_or_repo_id\u001b[49m\u001b[43m,\u001b[49m\n\u001b[32m    344\u001b[39m \u001b[43m        \u001b[49m\u001b[43mfilename\u001b[49m\u001b[43m,\u001b[49m\n\u001b[32m    345\u001b[39m \u001b[43m        \u001b[49m\u001b[43msubfolder\u001b[49m\u001b[43m=\u001b[49m\u001b[38;5;28;43;01mNone\u001b[39;49;00m\u001b[43m \u001b[49m\u001b[38;5;28;43;01mif\u001b[39;49;00m\u001b[43m \u001b[49m\u001b[38;5;28;43mlen\u001b[39;49m\u001b[43m(\u001b[49m\u001b[43msubfolder\u001b[49m\u001b[43m)\u001b[49m\u001b[43m \u001b[49m\u001b[43m==\u001b[49m\u001b[43m \u001b[49m\u001b[32;43m0\u001b[39;49m\u001b[43m \u001b[49m\u001b[38;5;28;43;01melse\u001b[39;49;00m\u001b[43m \u001b[49m\u001b[43msubfolder\u001b[49m\u001b[43m,\u001b[49m\n\u001b[32m    346\u001b[39m \u001b[43m        \u001b[49m\u001b[43mrepo_type\u001b[49m\u001b[43m=\u001b[49m\u001b[43mrepo_type\u001b[49m\u001b[43m,\u001b[49m\n\u001b[32m    347\u001b[39m \u001b[43m        \u001b[49m\u001b[43mrevision\u001b[49m\u001b[43m=\u001b[49m\u001b[43mrevision\u001b[49m\u001b[43m,\u001b[49m\n\u001b[32m    348\u001b[39m \u001b[43m        \u001b[49m\u001b[43mcache_dir\u001b[49m\u001b[43m=\u001b[49m\u001b[43mcache_dir\u001b[49m\u001b[43m,\u001b[49m\n\u001b[32m    349\u001b[39m \u001b[43m        \u001b[49m\u001b[43muser_agent\u001b[49m\u001b[43m=\u001b[49m\u001b[43muser_agent\u001b[49m\u001b[43m,\u001b[49m\n\u001b[32m    350\u001b[39m \u001b[43m        \u001b[49m\u001b[43mforce_download\u001b[49m\u001b[43m=\u001b[49m\u001b[43mforce_download\u001b[49m\u001b[43m,\u001b[49m\n\u001b[32m    351\u001b[39m \u001b[43m        \u001b[49m\u001b[43mproxies\u001b[49m\u001b[43m=\u001b[49m\u001b[43mproxies\u001b[49m\u001b[43m,\u001b[49m\n\u001b[32m    352\u001b[39m \u001b[43m        \u001b[49m\u001b[43mresume_download\u001b[49m\u001b[43m=\u001b[49m\u001b[43mresume_download\u001b[49m\u001b[43m,\u001b[49m\n\u001b[32m    353\u001b[39m \u001b[43m        \u001b[49m\u001b[43mtoken\u001b[49m\u001b[43m=\u001b[49m\u001b[43mtoken\u001b[49m\u001b[43m,\u001b[49m\n\u001b[32m    354\u001b[39m \u001b[43m        \u001b[49m\u001b[43mlocal_files_only\u001b[49m\u001b[43m=\u001b[49m\u001b[43mlocal_files_only\u001b[49m\u001b[43m,\u001b[49m\n\u001b[32m    355\u001b[39m \u001b[43m    \u001b[49m\u001b[43m)\u001b[49m\n\u001b[32m    356\u001b[39m \u001b[38;5;28;01mexcept\u001b[39;00m GatedRepoError \u001b[38;5;28;01mas\u001b[39;00m e:\n",
      "\u001b[36mFile \u001b[39m\u001b[32mc:\\Users\\aaaa\\anaconda3\\envs\\genetic\\Lib\\site-packages\\huggingface_hub\\utils\\_validators.py:106\u001b[39m, in \u001b[36mvalidate_hf_hub_args.<locals>._inner_fn\u001b[39m\u001b[34m(*args, **kwargs)\u001b[39m\n\u001b[32m    105\u001b[39m \u001b[38;5;28;01mif\u001b[39;00m arg_name \u001b[38;5;129;01min\u001b[39;00m [\u001b[33m\"\u001b[39m\u001b[33mrepo_id\u001b[39m\u001b[33m\"\u001b[39m, \u001b[33m\"\u001b[39m\u001b[33mfrom_id\u001b[39m\u001b[33m\"\u001b[39m, \u001b[33m\"\u001b[39m\u001b[33mto_id\u001b[39m\u001b[33m\"\u001b[39m]:\n\u001b[32m--> \u001b[39m\u001b[32m106\u001b[39m     \u001b[43mvalidate_repo_id\u001b[49m\u001b[43m(\u001b[49m\u001b[43marg_value\u001b[49m\u001b[43m)\u001b[49m\n\u001b[32m    108\u001b[39m \u001b[38;5;28;01melif\u001b[39;00m arg_name == \u001b[33m\"\u001b[39m\u001b[33mtoken\u001b[39m\u001b[33m\"\u001b[39m \u001b[38;5;129;01mand\u001b[39;00m arg_value \u001b[38;5;129;01mis\u001b[39;00m \u001b[38;5;129;01mnot\u001b[39;00m \u001b[38;5;28;01mNone\u001b[39;00m:\n",
      "\u001b[36mFile \u001b[39m\u001b[32mc:\\Users\\aaaa\\anaconda3\\envs\\genetic\\Lib\\site-packages\\huggingface_hub\\utils\\_validators.py:154\u001b[39m, in \u001b[36mvalidate_repo_id\u001b[39m\u001b[34m(repo_id)\u001b[39m\n\u001b[32m    153\u001b[39m \u001b[38;5;28;01mif\u001b[39;00m repo_id.count(\u001b[33m\"\u001b[39m\u001b[33m/\u001b[39m\u001b[33m\"\u001b[39m) > \u001b[32m1\u001b[39m:\n\u001b[32m--> \u001b[39m\u001b[32m154\u001b[39m     \u001b[38;5;28;01mraise\u001b[39;00m HFValidationError(\n\u001b[32m    155\u001b[39m         \u001b[33m\"\u001b[39m\u001b[33mRepo id must be in the form \u001b[39m\u001b[33m'\u001b[39m\u001b[33mrepo_name\u001b[39m\u001b[33m'\u001b[39m\u001b[33m or \u001b[39m\u001b[33m'\u001b[39m\u001b[33mnamespace/repo_name\u001b[39m\u001b[33m'\u001b[39m\u001b[33m:\u001b[39m\u001b[33m\"\u001b[39m\n\u001b[32m    156\u001b[39m         \u001b[33mf\u001b[39m\u001b[33m\"\u001b[39m\u001b[33m \u001b[39m\u001b[33m'\u001b[39m\u001b[38;5;132;01m{\u001b[39;00mrepo_id\u001b[38;5;132;01m}\u001b[39;00m\u001b[33m'\u001b[39m\u001b[33m. Use `repo_type` argument if needed.\u001b[39m\u001b[33m\"\u001b[39m\n\u001b[32m    157\u001b[39m     )\n\u001b[32m    159\u001b[39m \u001b[38;5;28;01mif\u001b[39;00m \u001b[38;5;129;01mnot\u001b[39;00m REPO_ID_REGEX.match(repo_id):\n",
      "\u001b[31mHFValidationError\u001b[39m: Repo id must be in the form 'repo_name' or 'namespace/repo_name': './models/holding_zone/checkpoint-1756'. Use `repo_type` argument if needed.",
      "\nThe above exception was the direct cause of the following exception:\n",
      "\u001b[31mOSError\u001b[39m                                   Traceback (most recent call last)",
      "\u001b[36mCell\u001b[39m\u001b[36m \u001b[39m\u001b[32mIn[45]\u001b[39m\u001b[32m, line 5\u001b[39m\n\u001b[32m      3\u001b[39m checkpoint = \u001b[32m1756\u001b[39m \u001b[38;5;66;03m# Checkpoint for epoch 2.\u001b[39;00m\n\u001b[32m      4\u001b[39m model_dir = \u001b[33mf\u001b[39m\u001b[33m\"\u001b[39m\u001b[33m./models/holding_zone/checkpoint-\u001b[39m\u001b[38;5;132;01m{\u001b[39;00mcheckpoint\u001b[38;5;132;01m}\u001b[39;00m\u001b[33m\"\u001b[39m\n\u001b[32m----> \u001b[39m\u001b[32m5\u001b[39m model = \u001b[43mAutoModelForTokenClassification\u001b[49m\u001b[43m.\u001b[49m\u001b[43mfrom_pretrained\u001b[49m\u001b[43m(\u001b[49m\u001b[43mmodel_dir\u001b[49m\u001b[43m)\u001b[49m\n\u001b[32m      6\u001b[39m tokenizer = AutoTokenizer.from_pretrained(model_dir)\n\u001b[32m      7\u001b[39m aggregation_strategy = \u001b[33m\"\u001b[39m\u001b[33maverage\u001b[39m\u001b[33m\"\u001b[39m\n",
      "\u001b[36mFile \u001b[39m\u001b[32mc:\\Users\\aaaa\\anaconda3\\envs\\genetic\\Lib\\site-packages\\transformers\\models\\auto\\auto_factory.py:487\u001b[39m, in \u001b[36m_BaseAutoModelClass.from_pretrained\u001b[39m\u001b[34m(cls, pretrained_model_name_or_path, *model_args, **kwargs)\u001b[39m\n\u001b[32m    484\u001b[39m \u001b[38;5;28;01mif\u001b[39;00m commit_hash \u001b[38;5;129;01mis\u001b[39;00m \u001b[38;5;28;01mNone\u001b[39;00m:\n\u001b[32m    485\u001b[39m     \u001b[38;5;28;01mif\u001b[39;00m \u001b[38;5;129;01mnot\u001b[39;00m \u001b[38;5;28misinstance\u001b[39m(config, PretrainedConfig):\n\u001b[32m    486\u001b[39m         \u001b[38;5;66;03m# We make a call to the config file first (which may be absent) to get the commit hash as soon as possible\u001b[39;00m\n\u001b[32m--> \u001b[39m\u001b[32m487\u001b[39m         resolved_config_file = \u001b[43mcached_file\u001b[49m\u001b[43m(\u001b[49m\n\u001b[32m    488\u001b[39m \u001b[43m            \u001b[49m\u001b[43mpretrained_model_name_or_path\u001b[49m\u001b[43m,\u001b[49m\n\u001b[32m    489\u001b[39m \u001b[43m            \u001b[49m\u001b[43mCONFIG_NAME\u001b[49m\u001b[43m,\u001b[49m\n\u001b[32m    490\u001b[39m \u001b[43m            \u001b[49m\u001b[43m_raise_exceptions_for_gated_repo\u001b[49m\u001b[43m=\u001b[49m\u001b[38;5;28;43;01mFalse\u001b[39;49;00m\u001b[43m,\u001b[49m\n\u001b[32m    491\u001b[39m \u001b[43m            \u001b[49m\u001b[43m_raise_exceptions_for_missing_entries\u001b[49m\u001b[43m=\u001b[49m\u001b[38;5;28;43;01mFalse\u001b[39;49;00m\u001b[43m,\u001b[49m\n\u001b[32m    492\u001b[39m \u001b[43m            \u001b[49m\u001b[43m_raise_exceptions_for_connection_errors\u001b[49m\u001b[43m=\u001b[49m\u001b[38;5;28;43;01mFalse\u001b[39;49;00m\u001b[43m,\u001b[49m\n\u001b[32m    493\u001b[39m \u001b[43m            \u001b[49m\u001b[43m*\u001b[49m\u001b[43m*\u001b[49m\u001b[43mhub_kwargs\u001b[49m\u001b[43m,\u001b[49m\n\u001b[32m    494\u001b[39m \u001b[43m        \u001b[49m\u001b[43m)\u001b[49m\n\u001b[32m    495\u001b[39m         commit_hash = extract_commit_hash(resolved_config_file, commit_hash)\n\u001b[32m    496\u001b[39m     \u001b[38;5;28;01melse\u001b[39;00m:\n",
      "\u001b[36mFile \u001b[39m\u001b[32mc:\\Users\\aaaa\\anaconda3\\envs\\genetic\\Lib\\site-packages\\transformers\\utils\\hub.py:408\u001b[39m, in \u001b[36mcached_file\u001b[39m\u001b[34m(path_or_repo_id, filename, cache_dir, force_download, resume_download, proxies, token, revision, local_files_only, subfolder, repo_type, user_agent, _raise_exceptions_for_gated_repo, _raise_exceptions_for_missing_entries, _raise_exceptions_for_connection_errors, _commit_hash, **deprecated_kwargs)\u001b[39m\n\u001b[32m    406\u001b[39m     \u001b[38;5;28;01mraise\u001b[39;00m \u001b[38;5;167;01mEnvironmentError\u001b[39;00m(\u001b[33mf\u001b[39m\u001b[33m\"\u001b[39m\u001b[33mThere was a specific connection error when trying to load \u001b[39m\u001b[38;5;132;01m{\u001b[39;00mpath_or_repo_id\u001b[38;5;132;01m}\u001b[39;00m\u001b[33m:\u001b[39m\u001b[38;5;130;01m\\n\u001b[39;00m\u001b[38;5;132;01m{\u001b[39;00merr\u001b[38;5;132;01m}\u001b[39;00m\u001b[33m\"\u001b[39m)\n\u001b[32m    407\u001b[39m \u001b[38;5;28;01mexcept\u001b[39;00m HFValidationError \u001b[38;5;28;01mas\u001b[39;00m e:\n\u001b[32m--> \u001b[39m\u001b[32m408\u001b[39m     \u001b[38;5;28;01mraise\u001b[39;00m \u001b[38;5;167;01mEnvironmentError\u001b[39;00m(\n\u001b[32m    409\u001b[39m         \u001b[33mf\u001b[39m\u001b[33m\"\u001b[39m\u001b[33mIncorrect path_or_model_id: \u001b[39m\u001b[33m'\u001b[39m\u001b[38;5;132;01m{\u001b[39;00mpath_or_repo_id\u001b[38;5;132;01m}\u001b[39;00m\u001b[33m'\u001b[39m\u001b[33m. Please provide either the path to a local folder or the repo_id of a model on the Hub.\u001b[39m\u001b[33m\"\u001b[39m\n\u001b[32m    410\u001b[39m     ) \u001b[38;5;28;01mfrom\u001b[39;00m\u001b[38;5;250m \u001b[39m\u001b[34;01me\u001b[39;00m\n\u001b[32m    411\u001b[39m \u001b[38;5;28;01mreturn\u001b[39;00m resolved_file\n",
      "\u001b[31mOSError\u001b[39m: Incorrect path_or_model_id: './models/holding_zone/checkpoint-1756'. Please provide either the path to a local folder or the repo_id of a model on the Hub."
     ]
    }
   ],
   "source": [
    "from transformers import pipeline\n",
    "\n",
    "checkpoint = 1756 # Checkpoint for epoch 2.\n",
    "model_dir = f\"./models/holding_zone/checkpoint-{checkpoint}\"\n",
    "model = AutoModelForTokenClassification.from_pretrained(model_dir)\n",
    "tokenizer = AutoTokenizer.from_pretrained(model_dir)\n",
    "aggregation_strategy = \"average\"\n",
    "pipe = pipeline(\n",
    "    task=\"token-classification\", model=model, tokenizer=tokenizer, aggregation_strategy=aggregation_strategy\n",
    ")"
   ]
  },
  {
   "cell_type": "code",
   "execution_count": null,
   "metadata": {},
   "outputs": [],
   "source": [
    "for index, row in enumerate(tokenized_ds[\"test\"]):\n",
    "    if index < 5:\n",
    "        text = \" \".join(row[\"tokens\"])\n",
    "        othertags = [id2label[id] for id in row[\"ner_tags\"]]\n",
    "        pipe_output = pipe(text)\n",
    "        print(f\"Row: {index}\")\n",
    "        print(f\"Transaction: {text}\")\n",
    "        print(f\"Actual NER tags: {othertags}\")\n",
    "        for output in pipe_output:\n",
    "            print(output)\n",
    "        print(\"\\n\")"
   ]
  },
  {
   "cell_type": "code",
   "execution_count": null,
   "metadata": {},
   "outputs": [],
   "source": [
    "from evaluate import evaluator\n",
    "\n",
    "task_evaluator = evaluator(\"token-classification\")\n",
    "pipe = pipeline(\n",
    "    task=\"token-classification\", model=model, tokenizer=tokenizer\n",
    ")\n",
    "\n",
    "results = task_evaluator.compute(\n",
    "    model_or_pipeline=pipe,\n",
    "    data=tokenized_ds[\"test\"],\n",
    "    metric=\"seqeval\",\n",
    "    input_column=\"tokens\",\n",
    "    label_column=\"ner_tags\",\n",
    "    join_by=\" \"\n",
    ")\n",
    "results"
   ]
  },
  {
   "cell_type": "code",
   "execution_count": null,
   "metadata": {},
   "outputs": [],
   "source": [
    "overall_metrics = { \n",
    "    \"OVERALL\": {\n",
    "        \"precision\": results[\"overall_precision\"],\n",
    "        \"recall\": results[\"overall_recall\"],\n",
    "        \"f1\": results[\"overall_f1\"],\n",
    "        \"number\": np.NaN\n",
    "    }\n",
    "}\n",
    "\n",
    "keys_to_keep = [\"LOC\", \"MISC\", \"ORG\", \"PER\"]\n",
    "metrics = {key: results[key] for key in keys_to_keep if key in results}\n",
    "metrics.update(overall_metrics)\n",
    "metrics"
   ]
  },
  {
   "cell_type": "code",
   "execution_count": null,
   "metadata": {},
   "outputs": [],
   "source": [
    "metric_df = (\n",
    "    pd.DataFrame(metrics)\n",
    "    .transpose()\n",
    ")\n",
    "metric_df"
   ]
  },
  {
   "cell_type": "code",
   "execution_count": null,
   "metadata": {},
   "outputs": [],
   "source": [
    "(\n",
    "    metric_df\n",
    "    .drop([\"number\"], axis=1)\n",
    "    .plot(\n",
    "        kind=\"barh\",\n",
    "        title=\"Testing Metrics per Entity\",\n",
    "        xlabel=\"Score\"\n",
    "    )\n",
    "    .legend(bbox_to_anchor=(1,1))\n",
    ")"
   ]
  },
  {
   "cell_type": "code",
   "execution_count": null,
   "metadata": {},
   "outputs": [],
   "source": [
    "(\n",
    "    metric_df[\"number\"]\n",
    "    .drop('OVERALL')\n",
    "    .plot(\n",
    "        kind=\"barh\",\n",
    "        title=\"Frequency of each Entity\"\n",
    "    )\n",
    ")"
   ]
  }
 ],
 "metadata": {
  "kernelspec": {
   "display_name": "genetic",
   "language": "python",
   "name": "python3"
  },
  "language_info": {
   "codemirror_mode": {
    "name": "ipython",
    "version": 3
   },
   "file_extension": ".py",
   "mimetype": "text/x-python",
   "name": "python",
   "nbconvert_exporter": "python",
   "pygments_lexer": "ipython3",
   "version": "3.11.11"
  }
 },
 "nbformat": 4,
 "nbformat_minor": 2
}
